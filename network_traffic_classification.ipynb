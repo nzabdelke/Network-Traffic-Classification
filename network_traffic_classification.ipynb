{
 "cells": [
  {
   "cell_type": "code",
   "execution_count": 1,
   "id": "59259a5e",
   "metadata": {},
   "outputs": [
    {
     "data": {
      "application/javascript": [
       "\n",
       "            setTimeout(function() {\n",
       "                var nbb_cell_id = 1;\n",
       "                var nbb_unformatted_code = \"%load_ext nb_black\\n%matplotlib inline\";\n",
       "                var nbb_formatted_code = \"%load_ext nb_black\\n%matplotlib inline\";\n",
       "                var nbb_cells = Jupyter.notebook.get_cells();\n",
       "                for (var i = 0; i < nbb_cells.length; ++i) {\n",
       "                    if (nbb_cells[i].input_prompt_number == nbb_cell_id) {\n",
       "                        if (nbb_cells[i].get_text() == nbb_unformatted_code) {\n",
       "                             nbb_cells[i].set_text(nbb_formatted_code);\n",
       "                        }\n",
       "                        break;\n",
       "                    }\n",
       "                }\n",
       "            }, 500);\n",
       "            "
      ],
      "text/plain": [
       "<IPython.core.display.Javascript object>"
      ]
     },
     "metadata": {},
     "output_type": "display_data"
    }
   ],
   "source": [
    "%load_ext nb_black\n",
    "%matplotlib inline"
   ]
  },
  {
   "cell_type": "markdown",
   "id": "e1fa8ab5",
   "metadata": {},
   "source": [
    "# Required Libraries"
   ]
  },
  {
   "cell_type": "code",
   "execution_count": 2,
   "id": "d27dbd29",
   "metadata": {},
   "outputs": [
    {
     "data": {
      "application/javascript": [
       "\n",
       "            setTimeout(function() {\n",
       "                var nbb_cell_id = 2;\n",
       "                var nbb_unformatted_code = \"import numpy as np\\n\\n# dataset preprocessing\\nimport pandas as pd\\nfrom sklearn.compose import make_column_transformer\\nfrom sklearn.preprocessing import OrdinalEncoder\\nfrom sklearn.preprocessing import MinMaxScaler\\nfrom sklearn.pipeline import make_pipeline\\nfrom sklearn.preprocessing import LabelEncoder\\n\\n# visualization\\nimport matplotlib.pyplot as plt\\n\\nplt.style.use(\\\"ggplot\\\")\\n\\n# cross validation\\nfrom sklearn.model_selection import RepeatedStratifiedKFold\\nfrom sklearn.model_selection import cross_val_score\\n\\n# hyperparameter tuning\\nfrom sklearn.model_selection import GridSearchCV\\n\\n# classifiers\\nfrom sklearn.naive_bayes import GaussianNB\\nfrom sklearn.tree import DecisionTreeClassifier\\n\\n# feature selection\\nfrom sklearn.feature_selection import SequentialFeatureSelector\\nfrom sklearn.linear_model import LassoCV\";\n",
       "                var nbb_formatted_code = \"import numpy as np\\n\\n# dataset preprocessing\\nimport pandas as pd\\nfrom sklearn.compose import make_column_transformer\\nfrom sklearn.preprocessing import OrdinalEncoder\\nfrom sklearn.preprocessing import MinMaxScaler\\nfrom sklearn.pipeline import make_pipeline\\nfrom sklearn.preprocessing import LabelEncoder\\n\\n# visualization\\nimport matplotlib.pyplot as plt\\n\\nplt.style.use(\\\"ggplot\\\")\\n\\n# cross validation\\nfrom sklearn.model_selection import RepeatedStratifiedKFold\\nfrom sklearn.model_selection import cross_val_score\\n\\n# hyperparameter tuning\\nfrom sklearn.model_selection import GridSearchCV\\n\\n# classifiers\\nfrom sklearn.naive_bayes import GaussianNB\\nfrom sklearn.tree import DecisionTreeClassifier\\n\\n# feature selection\\nfrom sklearn.feature_selection import SequentialFeatureSelector\\nfrom sklearn.linear_model import LassoCV\";\n",
       "                var nbb_cells = Jupyter.notebook.get_cells();\n",
       "                for (var i = 0; i < nbb_cells.length; ++i) {\n",
       "                    if (nbb_cells[i].input_prompt_number == nbb_cell_id) {\n",
       "                        if (nbb_cells[i].get_text() == nbb_unformatted_code) {\n",
       "                             nbb_cells[i].set_text(nbb_formatted_code);\n",
       "                        }\n",
       "                        break;\n",
       "                    }\n",
       "                }\n",
       "            }, 500);\n",
       "            "
      ],
      "text/plain": [
       "<IPython.core.display.Javascript object>"
      ]
     },
     "metadata": {},
     "output_type": "display_data"
    }
   ],
   "source": [
    "import numpy as np\n",
    "\n",
    "# dataset preprocessing\n",
    "import pandas as pd\n",
    "from sklearn.compose import make_column_transformer\n",
    "from sklearn.preprocessing import OrdinalEncoder\n",
    "from sklearn.preprocessing import MinMaxScaler\n",
    "from sklearn.pipeline import make_pipeline\n",
    "from sklearn.preprocessing import LabelEncoder\n",
    "\n",
    "# visualization\n",
    "import matplotlib.pyplot as plt\n",
    "\n",
    "plt.style.use(\"ggplot\")\n",
    "\n",
    "# cross validation\n",
    "from sklearn.model_selection import RepeatedStratifiedKFold\n",
    "from sklearn.model_selection import cross_val_score\n",
    "\n",
    "# hyperparameter tuning\n",
    "from sklearn.model_selection import GridSearchCV\n",
    "\n",
    "# classifiers\n",
    "from sklearn.naive_bayes import GaussianNB\n",
    "from sklearn.tree import DecisionTreeClassifier\n",
    "\n",
    "# feature selection\n",
    "from sklearn.feature_selection import SequentialFeatureSelector\n",
    "from sklearn.linear_model import LassoCV"
   ]
  },
  {
   "cell_type": "markdown",
   "id": "7e10dc70",
   "metadata": {},
   "source": [
    "# NSL-KDD Dataset Introduction"
   ]
  },
  {
   "cell_type": "markdown",
   "id": "9c36eb98",
   "metadata": {},
   "source": [
    "The NSL-KDD dataset was collated in order to mitigate the problems of the KDD'99 dataset. The KDD'99 dataset attracted the attention of many researchers due to the lack of public data sets for signature based intrusion detection systems (IDSs). Tavallaee et al. [1] found that the most significant issue with the 1999 dataset is that it contained a significant number of redundant instances such that classifiers were biased towards these instances while disregarding infrequent instances. However, it is often these infrequent instances that can be indicative of new devastating network intrusions.\n",
    "\n",
    "Some of the improvements present in the NSL-KDD dataset is that all redundant instances were removed. Moreover, the number of records from each difficulty group was selected to be inversely proportional to the percentage of records in the original KDD dataset. Difficulty refers to how many of 21 classifiers were able to classify an instance correctly from the 1999 dataset. In addition, some of the instances in the original dataset contained unsystematic noise, thus these instances were discarded when constructing the improved dataset. Overall, the original KDD dataset was disproportionately distributed, thus rendering the classifiers ineffective in serving as a discriminative tool for detecting network intrusions that can be identified by signature.\n",
    "\n",
    "The NSL-KDD dataset can be downloaded from: https://www.unb.ca/cic/datasets/nsl.html\n",
    "\n",
    "Please note that a 20% subset of the whole dataset will be used due to the magnitude of the whole dataset (more than 120,000 instances). The 20% subset is also provided at the above link under the name 'KDDTrain+_20Percent.TXT'"
   ]
  },
  {
   "cell_type": "markdown",
   "id": "20991e65",
   "metadata": {},
   "source": [
    "# Dataset Overview"
   ]
  },
  {
   "cell_type": "code",
   "execution_count": 3,
   "id": "889e7ec8",
   "metadata": {},
   "outputs": [
    {
     "name": "stdout",
     "output_type": "stream",
     "text": [
      "Number of Instances: 25192\n",
      "Number of Features (including class): 42\n"
     ]
    },
    {
     "data": {
      "text/html": [
       "<div>\n",
       "<style scoped>\n",
       "    .dataframe tbody tr th:only-of-type {\n",
       "        vertical-align: middle;\n",
       "    }\n",
       "\n",
       "    .dataframe tbody tr th {\n",
       "        vertical-align: top;\n",
       "    }\n",
       "\n",
       "    .dataframe thead th {\n",
       "        text-align: right;\n",
       "    }\n",
       "</style>\n",
       "<table border=\"1\" class=\"dataframe\">\n",
       "  <thead>\n",
       "    <tr style=\"text-align: right;\">\n",
       "      <th></th>\n",
       "      <th>duration</th>\n",
       "      <th>protocol_type</th>\n",
       "      <th>service</th>\n",
       "      <th>flag</th>\n",
       "      <th>src_bytes</th>\n",
       "      <th>dst_bytes</th>\n",
       "      <th>land</th>\n",
       "      <th>wrong_fragment</th>\n",
       "      <th>urgent</th>\n",
       "      <th>hot</th>\n",
       "      <th>...</th>\n",
       "      <th>dst_host_srv_count</th>\n",
       "      <th>dst_host_same_srv_rate</th>\n",
       "      <th>dst_host_diff_srv_rate</th>\n",
       "      <th>dst_host_same_src_port_rate</th>\n",
       "      <th>dst_host_srv_diff_host_rate</th>\n",
       "      <th>dst_host_serror_rate</th>\n",
       "      <th>dst_host_srv_serror_rate</th>\n",
       "      <th>dst_host_rerror_rate</th>\n",
       "      <th>dst_host_srv_rerror_rate</th>\n",
       "      <th>class</th>\n",
       "    </tr>\n",
       "  </thead>\n",
       "  <tbody>\n",
       "    <tr>\n",
       "      <th>0</th>\n",
       "      <td>0</td>\n",
       "      <td>tcp</td>\n",
       "      <td>ftp_data</td>\n",
       "      <td>SF</td>\n",
       "      <td>491</td>\n",
       "      <td>0</td>\n",
       "      <td>0</td>\n",
       "      <td>0</td>\n",
       "      <td>0</td>\n",
       "      <td>0</td>\n",
       "      <td>...</td>\n",
       "      <td>25</td>\n",
       "      <td>0.17</td>\n",
       "      <td>0.03</td>\n",
       "      <td>0.17</td>\n",
       "      <td>0.00</td>\n",
       "      <td>0.00</td>\n",
       "      <td>0.00</td>\n",
       "      <td>0.05</td>\n",
       "      <td>0.00</td>\n",
       "      <td>normal</td>\n",
       "    </tr>\n",
       "    <tr>\n",
       "      <th>1</th>\n",
       "      <td>0</td>\n",
       "      <td>udp</td>\n",
       "      <td>other</td>\n",
       "      <td>SF</td>\n",
       "      <td>146</td>\n",
       "      <td>0</td>\n",
       "      <td>0</td>\n",
       "      <td>0</td>\n",
       "      <td>0</td>\n",
       "      <td>0</td>\n",
       "      <td>...</td>\n",
       "      <td>1</td>\n",
       "      <td>0.00</td>\n",
       "      <td>0.60</td>\n",
       "      <td>0.88</td>\n",
       "      <td>0.00</td>\n",
       "      <td>0.00</td>\n",
       "      <td>0.00</td>\n",
       "      <td>0.00</td>\n",
       "      <td>0.00</td>\n",
       "      <td>normal</td>\n",
       "    </tr>\n",
       "    <tr>\n",
       "      <th>2</th>\n",
       "      <td>0</td>\n",
       "      <td>tcp</td>\n",
       "      <td>private</td>\n",
       "      <td>S0</td>\n",
       "      <td>0</td>\n",
       "      <td>0</td>\n",
       "      <td>0</td>\n",
       "      <td>0</td>\n",
       "      <td>0</td>\n",
       "      <td>0</td>\n",
       "      <td>...</td>\n",
       "      <td>26</td>\n",
       "      <td>0.10</td>\n",
       "      <td>0.05</td>\n",
       "      <td>0.00</td>\n",
       "      <td>0.00</td>\n",
       "      <td>1.00</td>\n",
       "      <td>1.00</td>\n",
       "      <td>0.00</td>\n",
       "      <td>0.00</td>\n",
       "      <td>anomaly</td>\n",
       "    </tr>\n",
       "    <tr>\n",
       "      <th>3</th>\n",
       "      <td>0</td>\n",
       "      <td>tcp</td>\n",
       "      <td>http</td>\n",
       "      <td>SF</td>\n",
       "      <td>232</td>\n",
       "      <td>8153</td>\n",
       "      <td>0</td>\n",
       "      <td>0</td>\n",
       "      <td>0</td>\n",
       "      <td>0</td>\n",
       "      <td>...</td>\n",
       "      <td>255</td>\n",
       "      <td>1.00</td>\n",
       "      <td>0.00</td>\n",
       "      <td>0.03</td>\n",
       "      <td>0.04</td>\n",
       "      <td>0.03</td>\n",
       "      <td>0.01</td>\n",
       "      <td>0.00</td>\n",
       "      <td>0.01</td>\n",
       "      <td>normal</td>\n",
       "    </tr>\n",
       "    <tr>\n",
       "      <th>4</th>\n",
       "      <td>0</td>\n",
       "      <td>tcp</td>\n",
       "      <td>http</td>\n",
       "      <td>SF</td>\n",
       "      <td>199</td>\n",
       "      <td>420</td>\n",
       "      <td>0</td>\n",
       "      <td>0</td>\n",
       "      <td>0</td>\n",
       "      <td>0</td>\n",
       "      <td>...</td>\n",
       "      <td>255</td>\n",
       "      <td>1.00</td>\n",
       "      <td>0.00</td>\n",
       "      <td>0.00</td>\n",
       "      <td>0.00</td>\n",
       "      <td>0.00</td>\n",
       "      <td>0.00</td>\n",
       "      <td>0.00</td>\n",
       "      <td>0.00</td>\n",
       "      <td>normal</td>\n",
       "    </tr>\n",
       "  </tbody>\n",
       "</table>\n",
       "<p>5 rows × 42 columns</p>\n",
       "</div>"
      ],
      "text/plain": [
       "   duration protocol_type   service flag  src_bytes  dst_bytes  land  \\\n",
       "0         0           tcp  ftp_data   SF        491          0     0   \n",
       "1         0           udp     other   SF        146          0     0   \n",
       "2         0           tcp   private   S0          0          0     0   \n",
       "3         0           tcp      http   SF        232       8153     0   \n",
       "4         0           tcp      http   SF        199        420     0   \n",
       "\n",
       "   wrong_fragment  urgent  hot  ...  dst_host_srv_count  \\\n",
       "0               0       0    0  ...                  25   \n",
       "1               0       0    0  ...                   1   \n",
       "2               0       0    0  ...                  26   \n",
       "3               0       0    0  ...                 255   \n",
       "4               0       0    0  ...                 255   \n",
       "\n",
       "   dst_host_same_srv_rate  dst_host_diff_srv_rate  \\\n",
       "0                    0.17                    0.03   \n",
       "1                    0.00                    0.60   \n",
       "2                    0.10                    0.05   \n",
       "3                    1.00                    0.00   \n",
       "4                    1.00                    0.00   \n",
       "\n",
       "   dst_host_same_src_port_rate  dst_host_srv_diff_host_rate  \\\n",
       "0                         0.17                         0.00   \n",
       "1                         0.88                         0.00   \n",
       "2                         0.00                         0.00   \n",
       "3                         0.03                         0.04   \n",
       "4                         0.00                         0.00   \n",
       "\n",
       "   dst_host_serror_rate  dst_host_srv_serror_rate  dst_host_rerror_rate  \\\n",
       "0                  0.00                      0.00                  0.05   \n",
       "1                  0.00                      0.00                  0.00   \n",
       "2                  1.00                      1.00                  0.00   \n",
       "3                  0.03                      0.01                  0.00   \n",
       "4                  0.00                      0.00                  0.00   \n",
       "\n",
       "   dst_host_srv_rerror_rate    class  \n",
       "0                      0.00   normal  \n",
       "1                      0.00   normal  \n",
       "2                      0.00  anomaly  \n",
       "3                      0.01   normal  \n",
       "4                      0.00   normal  \n",
       "\n",
       "[5 rows x 42 columns]"
      ]
     },
     "execution_count": 3,
     "metadata": {},
     "output_type": "execute_result"
    },
    {
     "data": {
      "application/javascript": [
       "\n",
       "            setTimeout(function() {\n",
       "                var nbb_cell_id = 3;\n",
       "                var nbb_unformatted_code = \"df = pd.read_csv(\\\"ids.csv\\\")\\nprint(f\\\"Number of Instances: {df.shape[0]}\\\")\\nprint(f\\\"Number of Features (including class): {df.shape[1]}\\\")\\ndf.head()\";\n",
       "                var nbb_formatted_code = \"df = pd.read_csv(\\\"ids.csv\\\")\\nprint(f\\\"Number of Instances: {df.shape[0]}\\\")\\nprint(f\\\"Number of Features (including class): {df.shape[1]}\\\")\\ndf.head()\";\n",
       "                var nbb_cells = Jupyter.notebook.get_cells();\n",
       "                for (var i = 0; i < nbb_cells.length; ++i) {\n",
       "                    if (nbb_cells[i].input_prompt_number == nbb_cell_id) {\n",
       "                        if (nbb_cells[i].get_text() == nbb_unformatted_code) {\n",
       "                             nbb_cells[i].set_text(nbb_formatted_code);\n",
       "                        }\n",
       "                        break;\n",
       "                    }\n",
       "                }\n",
       "            }, 500);\n",
       "            "
      ],
      "text/plain": [
       "<IPython.core.display.Javascript object>"
      ]
     },
     "metadata": {},
     "output_type": "display_data"
    }
   ],
   "source": [
    "df = pd.read_csv(\"ids.csv\")\n",
    "print(f\"Number of Instances: {df.shape[0]}\")\n",
    "print(f\"Number of Features (including class): {df.shape[1]}\")\n",
    "df.head()"
   ]
  },
  {
   "cell_type": "code",
   "execution_count": 4,
   "id": "c7de4471",
   "metadata": {},
   "outputs": [
    {
     "name": "stdout",
     "output_type": "stream",
     "text": [
      "There are 0 missing values in the dataset.\n"
     ]
    },
    {
     "data": {
      "application/javascript": [
       "\n",
       "            setTimeout(function() {\n",
       "                var nbb_cell_id = 4;\n",
       "                var nbb_unformatted_code = \"num_of_missing_values = df.isnull().sum().sum()\\nprint(\\\"There are %d missing values in the dataset.\\\" % (num_of_missing_values))\";\n",
       "                var nbb_formatted_code = \"num_of_missing_values = df.isnull().sum().sum()\\nprint(\\\"There are %d missing values in the dataset.\\\" % (num_of_missing_values))\";\n",
       "                var nbb_cells = Jupyter.notebook.get_cells();\n",
       "                for (var i = 0; i < nbb_cells.length; ++i) {\n",
       "                    if (nbb_cells[i].input_prompt_number == nbb_cell_id) {\n",
       "                        if (nbb_cells[i].get_text() == nbb_unformatted_code) {\n",
       "                             nbb_cells[i].set_text(nbb_formatted_code);\n",
       "                        }\n",
       "                        break;\n",
       "                    }\n",
       "                }\n",
       "            }, 500);\n",
       "            "
      ],
      "text/plain": [
       "<IPython.core.display.Javascript object>"
      ]
     },
     "metadata": {},
     "output_type": "display_data"
    }
   ],
   "source": [
    "num_of_missing_values = df.isnull().sum().sum()\n",
    "print(\"There are %d missing values in the dataset.\" % (num_of_missing_values))"
   ]
  },
  {
   "cell_type": "code",
   "execution_count": 5,
   "id": "33ecad01",
   "metadata": {},
   "outputs": [
    {
     "data": {
      "text/html": [
       "<div>\n",
       "<style scoped>\n",
       "    .dataframe tbody tr th:only-of-type {\n",
       "        vertical-align: middle;\n",
       "    }\n",
       "\n",
       "    .dataframe tbody tr th {\n",
       "        vertical-align: top;\n",
       "    }\n",
       "\n",
       "    .dataframe thead th {\n",
       "        text-align: right;\n",
       "    }\n",
       "</style>\n",
       "<table border=\"1\" class=\"dataframe\">\n",
       "  <thead>\n",
       "    <tr style=\"text-align: right;\">\n",
       "      <th></th>\n",
       "      <th>Type</th>\n",
       "      <th>Count</th>\n",
       "    </tr>\n",
       "  </thead>\n",
       "  <tbody>\n",
       "    <tr>\n",
       "      <th>0</th>\n",
       "      <td>int64</td>\n",
       "      <td>23</td>\n",
       "    </tr>\n",
       "    <tr>\n",
       "      <th>1</th>\n",
       "      <td>float64</td>\n",
       "      <td>15</td>\n",
       "    </tr>\n",
       "    <tr>\n",
       "      <th>2</th>\n",
       "      <td>object</td>\n",
       "      <td>4</td>\n",
       "    </tr>\n",
       "  </tbody>\n",
       "</table>\n",
       "</div>"
      ],
      "text/plain": [
       "      Type  Count\n",
       "0    int64     23\n",
       "1  float64     15\n",
       "2   object      4"
      ]
     },
     "execution_count": 5,
     "metadata": {},
     "output_type": "execute_result"
    },
    {
     "data": {
      "application/javascript": [
       "\n",
       "            setTimeout(function() {\n",
       "                var nbb_cell_id = 5;\n",
       "                var nbb_unformatted_code = \"data_types = df.dtypes.value_counts().to_frame().reset_index()\\ndata_types.columns = [\\\"Type\\\", \\\"Count\\\"]\\ndata_types\";\n",
       "                var nbb_formatted_code = \"data_types = df.dtypes.value_counts().to_frame().reset_index()\\ndata_types.columns = [\\\"Type\\\", \\\"Count\\\"]\\ndata_types\";\n",
       "                var nbb_cells = Jupyter.notebook.get_cells();\n",
       "                for (var i = 0; i < nbb_cells.length; ++i) {\n",
       "                    if (nbb_cells[i].input_prompt_number == nbb_cell_id) {\n",
       "                        if (nbb_cells[i].get_text() == nbb_unformatted_code) {\n",
       "                             nbb_cells[i].set_text(nbb_formatted_code);\n",
       "                        }\n",
       "                        break;\n",
       "                    }\n",
       "                }\n",
       "            }, 500);\n",
       "            "
      ],
      "text/plain": [
       "<IPython.core.display.Javascript object>"
      ]
     },
     "metadata": {},
     "output_type": "display_data"
    }
   ],
   "source": [
    "data_types = df.dtypes.value_counts().to_frame().reset_index()\n",
    "data_types.columns = [\"Type\", \"Count\"]\n",
    "data_types"
   ]
  },
  {
   "cell_type": "code",
   "execution_count": 6,
   "id": "f7697507",
   "metadata": {},
   "outputs": [
    {
     "data": {
      "text/html": [
       "<div>\n",
       "<style scoped>\n",
       "    .dataframe tbody tr th:only-of-type {\n",
       "        vertical-align: middle;\n",
       "    }\n",
       "\n",
       "    .dataframe tbody tr th {\n",
       "        vertical-align: top;\n",
       "    }\n",
       "\n",
       "    .dataframe thead th {\n",
       "        text-align: right;\n",
       "    }\n",
       "</style>\n",
       "<table border=\"1\" class=\"dataframe\">\n",
       "  <thead>\n",
       "    <tr style=\"text-align: right;\">\n",
       "      <th></th>\n",
       "      <th>protocol_type</th>\n",
       "      <th>service</th>\n",
       "      <th>flag</th>\n",
       "      <th>class</th>\n",
       "    </tr>\n",
       "  </thead>\n",
       "  <tbody>\n",
       "    <tr>\n",
       "      <th>0</th>\n",
       "      <td>tcp</td>\n",
       "      <td>ftp_data</td>\n",
       "      <td>SF</td>\n",
       "      <td>normal</td>\n",
       "    </tr>\n",
       "    <tr>\n",
       "      <th>1</th>\n",
       "      <td>udp</td>\n",
       "      <td>other</td>\n",
       "      <td>SF</td>\n",
       "      <td>normal</td>\n",
       "    </tr>\n",
       "    <tr>\n",
       "      <th>2</th>\n",
       "      <td>tcp</td>\n",
       "      <td>private</td>\n",
       "      <td>S0</td>\n",
       "      <td>anomaly</td>\n",
       "    </tr>\n",
       "    <tr>\n",
       "      <th>3</th>\n",
       "      <td>tcp</td>\n",
       "      <td>http</td>\n",
       "      <td>SF</td>\n",
       "      <td>normal</td>\n",
       "    </tr>\n",
       "    <tr>\n",
       "      <th>4</th>\n",
       "      <td>tcp</td>\n",
       "      <td>http</td>\n",
       "      <td>SF</td>\n",
       "      <td>normal</td>\n",
       "    </tr>\n",
       "  </tbody>\n",
       "</table>\n",
       "</div>"
      ],
      "text/plain": [
       "  protocol_type   service flag    class\n",
       "0           tcp  ftp_data   SF   normal\n",
       "1           udp     other   SF   normal\n",
       "2           tcp   private   S0  anomaly\n",
       "3           tcp      http   SF   normal\n",
       "4           tcp      http   SF   normal"
      ]
     },
     "execution_count": 6,
     "metadata": {},
     "output_type": "execute_result"
    },
    {
     "data": {
      "application/javascript": [
       "\n",
       "            setTimeout(function() {\n",
       "                var nbb_cell_id = 6;\n",
       "                var nbb_unformatted_code = \"categorical_features = df.select_dtypes(include=[\\\"object\\\"])\\ncategorical_features.head()\";\n",
       "                var nbb_formatted_code = \"categorical_features = df.select_dtypes(include=[\\\"object\\\"])\\ncategorical_features.head()\";\n",
       "                var nbb_cells = Jupyter.notebook.get_cells();\n",
       "                for (var i = 0; i < nbb_cells.length; ++i) {\n",
       "                    if (nbb_cells[i].input_prompt_number == nbb_cell_id) {\n",
       "                        if (nbb_cells[i].get_text() == nbb_unformatted_code) {\n",
       "                             nbb_cells[i].set_text(nbb_formatted_code);\n",
       "                        }\n",
       "                        break;\n",
       "                    }\n",
       "                }\n",
       "            }, 500);\n",
       "            "
      ],
      "text/plain": [
       "<IPython.core.display.Javascript object>"
      ]
     },
     "metadata": {},
     "output_type": "display_data"
    }
   ],
   "source": [
    "categorical_features = df.select_dtypes(include=[\"object\"])\n",
    "categorical_features.head()"
   ]
  },
  {
   "cell_type": "markdown",
   "id": "31e8c8d6",
   "metadata": {},
   "source": [
    "## Feature Statistics"
   ]
  },
  {
   "cell_type": "code",
   "execution_count": 7,
   "id": "20bf9e28",
   "metadata": {},
   "outputs": [
    {
     "data": {
      "text/html": [
       "<div>\n",
       "<style scoped>\n",
       "    .dataframe tbody tr th:only-of-type {\n",
       "        vertical-align: middle;\n",
       "    }\n",
       "\n",
       "    .dataframe tbody tr th {\n",
       "        vertical-align: top;\n",
       "    }\n",
       "\n",
       "    .dataframe thead th {\n",
       "        text-align: right;\n",
       "    }\n",
       "</style>\n",
       "<table border=\"1\" class=\"dataframe\">\n",
       "  <thead>\n",
       "    <tr style=\"text-align: right;\">\n",
       "      <th></th>\n",
       "      <th>duration</th>\n",
       "      <th>src_bytes</th>\n",
       "      <th>dst_bytes</th>\n",
       "      <th>land</th>\n",
       "      <th>wrong_fragment</th>\n",
       "      <th>urgent</th>\n",
       "      <th>hot</th>\n",
       "      <th>num_failed_logins</th>\n",
       "      <th>logged_in</th>\n",
       "      <th>num_compromised</th>\n",
       "      <th>...</th>\n",
       "      <th>dst_host_count</th>\n",
       "      <th>dst_host_srv_count</th>\n",
       "      <th>dst_host_same_srv_rate</th>\n",
       "      <th>dst_host_diff_srv_rate</th>\n",
       "      <th>dst_host_same_src_port_rate</th>\n",
       "      <th>dst_host_srv_diff_host_rate</th>\n",
       "      <th>dst_host_serror_rate</th>\n",
       "      <th>dst_host_srv_serror_rate</th>\n",
       "      <th>dst_host_rerror_rate</th>\n",
       "      <th>dst_host_srv_rerror_rate</th>\n",
       "    </tr>\n",
       "  </thead>\n",
       "  <tbody>\n",
       "    <tr>\n",
       "      <th>count</th>\n",
       "      <td>25192.000000</td>\n",
       "      <td>2.519200e+04</td>\n",
       "      <td>2.519200e+04</td>\n",
       "      <td>25192.000000</td>\n",
       "      <td>25192.000000</td>\n",
       "      <td>25192.00000</td>\n",
       "      <td>25192.000000</td>\n",
       "      <td>25192.000000</td>\n",
       "      <td>25192.000000</td>\n",
       "      <td>25192.000000</td>\n",
       "      <td>...</td>\n",
       "      <td>25192.000000</td>\n",
       "      <td>25192.000000</td>\n",
       "      <td>25192.000000</td>\n",
       "      <td>25192.000000</td>\n",
       "      <td>25192.000000</td>\n",
       "      <td>25192.000000</td>\n",
       "      <td>25192.000000</td>\n",
       "      <td>25192.000000</td>\n",
       "      <td>25192.000000</td>\n",
       "      <td>25192.000000</td>\n",
       "    </tr>\n",
       "    <tr>\n",
       "      <th>mean</th>\n",
       "      <td>305.054104</td>\n",
       "      <td>2.433063e+04</td>\n",
       "      <td>3.491847e+03</td>\n",
       "      <td>0.000079</td>\n",
       "      <td>0.023738</td>\n",
       "      <td>0.00004</td>\n",
       "      <td>0.198039</td>\n",
       "      <td>0.001191</td>\n",
       "      <td>0.394768</td>\n",
       "      <td>0.227850</td>\n",
       "      <td>...</td>\n",
       "      <td>182.532074</td>\n",
       "      <td>115.063036</td>\n",
       "      <td>0.519791</td>\n",
       "      <td>0.082539</td>\n",
       "      <td>0.147453</td>\n",
       "      <td>0.031844</td>\n",
       "      <td>0.285800</td>\n",
       "      <td>0.279846</td>\n",
       "      <td>0.117800</td>\n",
       "      <td>0.118769</td>\n",
       "    </tr>\n",
       "    <tr>\n",
       "      <th>std</th>\n",
       "      <td>2686.555640</td>\n",
       "      <td>2.410805e+06</td>\n",
       "      <td>8.883072e+04</td>\n",
       "      <td>0.008910</td>\n",
       "      <td>0.260221</td>\n",
       "      <td>0.00630</td>\n",
       "      <td>2.154202</td>\n",
       "      <td>0.045418</td>\n",
       "      <td>0.488811</td>\n",
       "      <td>10.417352</td>\n",
       "      <td>...</td>\n",
       "      <td>98.993895</td>\n",
       "      <td>110.646850</td>\n",
       "      <td>0.448944</td>\n",
       "      <td>0.187191</td>\n",
       "      <td>0.308367</td>\n",
       "      <td>0.110575</td>\n",
       "      <td>0.445316</td>\n",
       "      <td>0.446075</td>\n",
       "      <td>0.305869</td>\n",
       "      <td>0.317333</td>\n",
       "    </tr>\n",
       "    <tr>\n",
       "      <th>min</th>\n",
       "      <td>0.000000</td>\n",
       "      <td>0.000000e+00</td>\n",
       "      <td>0.000000e+00</td>\n",
       "      <td>0.000000</td>\n",
       "      <td>0.000000</td>\n",
       "      <td>0.00000</td>\n",
       "      <td>0.000000</td>\n",
       "      <td>0.000000</td>\n",
       "      <td>0.000000</td>\n",
       "      <td>0.000000</td>\n",
       "      <td>...</td>\n",
       "      <td>0.000000</td>\n",
       "      <td>0.000000</td>\n",
       "      <td>0.000000</td>\n",
       "      <td>0.000000</td>\n",
       "      <td>0.000000</td>\n",
       "      <td>0.000000</td>\n",
       "      <td>0.000000</td>\n",
       "      <td>0.000000</td>\n",
       "      <td>0.000000</td>\n",
       "      <td>0.000000</td>\n",
       "    </tr>\n",
       "    <tr>\n",
       "      <th>25%</th>\n",
       "      <td>0.000000</td>\n",
       "      <td>0.000000e+00</td>\n",
       "      <td>0.000000e+00</td>\n",
       "      <td>0.000000</td>\n",
       "      <td>0.000000</td>\n",
       "      <td>0.00000</td>\n",
       "      <td>0.000000</td>\n",
       "      <td>0.000000</td>\n",
       "      <td>0.000000</td>\n",
       "      <td>0.000000</td>\n",
       "      <td>...</td>\n",
       "      <td>84.000000</td>\n",
       "      <td>10.000000</td>\n",
       "      <td>0.050000</td>\n",
       "      <td>0.000000</td>\n",
       "      <td>0.000000</td>\n",
       "      <td>0.000000</td>\n",
       "      <td>0.000000</td>\n",
       "      <td>0.000000</td>\n",
       "      <td>0.000000</td>\n",
       "      <td>0.000000</td>\n",
       "    </tr>\n",
       "    <tr>\n",
       "      <th>50%</th>\n",
       "      <td>0.000000</td>\n",
       "      <td>4.400000e+01</td>\n",
       "      <td>0.000000e+00</td>\n",
       "      <td>0.000000</td>\n",
       "      <td>0.000000</td>\n",
       "      <td>0.00000</td>\n",
       "      <td>0.000000</td>\n",
       "      <td>0.000000</td>\n",
       "      <td>0.000000</td>\n",
       "      <td>0.000000</td>\n",
       "      <td>...</td>\n",
       "      <td>255.000000</td>\n",
       "      <td>61.000000</td>\n",
       "      <td>0.510000</td>\n",
       "      <td>0.030000</td>\n",
       "      <td>0.000000</td>\n",
       "      <td>0.000000</td>\n",
       "      <td>0.000000</td>\n",
       "      <td>0.000000</td>\n",
       "      <td>0.000000</td>\n",
       "      <td>0.000000</td>\n",
       "    </tr>\n",
       "    <tr>\n",
       "      <th>75%</th>\n",
       "      <td>0.000000</td>\n",
       "      <td>2.790000e+02</td>\n",
       "      <td>5.302500e+02</td>\n",
       "      <td>0.000000</td>\n",
       "      <td>0.000000</td>\n",
       "      <td>0.00000</td>\n",
       "      <td>0.000000</td>\n",
       "      <td>0.000000</td>\n",
       "      <td>1.000000</td>\n",
       "      <td>0.000000</td>\n",
       "      <td>...</td>\n",
       "      <td>255.000000</td>\n",
       "      <td>255.000000</td>\n",
       "      <td>1.000000</td>\n",
       "      <td>0.070000</td>\n",
       "      <td>0.060000</td>\n",
       "      <td>0.020000</td>\n",
       "      <td>1.000000</td>\n",
       "      <td>1.000000</td>\n",
       "      <td>0.000000</td>\n",
       "      <td>0.000000</td>\n",
       "    </tr>\n",
       "    <tr>\n",
       "      <th>max</th>\n",
       "      <td>42862.000000</td>\n",
       "      <td>3.817091e+08</td>\n",
       "      <td>5.151385e+06</td>\n",
       "      <td>1.000000</td>\n",
       "      <td>3.000000</td>\n",
       "      <td>1.00000</td>\n",
       "      <td>77.000000</td>\n",
       "      <td>4.000000</td>\n",
       "      <td>1.000000</td>\n",
       "      <td>884.000000</td>\n",
       "      <td>...</td>\n",
       "      <td>255.000000</td>\n",
       "      <td>255.000000</td>\n",
       "      <td>1.000000</td>\n",
       "      <td>1.000000</td>\n",
       "      <td>1.000000</td>\n",
       "      <td>1.000000</td>\n",
       "      <td>1.000000</td>\n",
       "      <td>1.000000</td>\n",
       "      <td>1.000000</td>\n",
       "      <td>1.000000</td>\n",
       "    </tr>\n",
       "  </tbody>\n",
       "</table>\n",
       "<p>8 rows × 38 columns</p>\n",
       "</div>"
      ],
      "text/plain": [
       "           duration     src_bytes     dst_bytes          land  wrong_fragment  \\\n",
       "count  25192.000000  2.519200e+04  2.519200e+04  25192.000000    25192.000000   \n",
       "mean     305.054104  2.433063e+04  3.491847e+03      0.000079        0.023738   \n",
       "std     2686.555640  2.410805e+06  8.883072e+04      0.008910        0.260221   \n",
       "min        0.000000  0.000000e+00  0.000000e+00      0.000000        0.000000   \n",
       "25%        0.000000  0.000000e+00  0.000000e+00      0.000000        0.000000   \n",
       "50%        0.000000  4.400000e+01  0.000000e+00      0.000000        0.000000   \n",
       "75%        0.000000  2.790000e+02  5.302500e+02      0.000000        0.000000   \n",
       "max    42862.000000  3.817091e+08  5.151385e+06      1.000000        3.000000   \n",
       "\n",
       "            urgent           hot  num_failed_logins     logged_in  \\\n",
       "count  25192.00000  25192.000000       25192.000000  25192.000000   \n",
       "mean       0.00004      0.198039           0.001191      0.394768   \n",
       "std        0.00630      2.154202           0.045418      0.488811   \n",
       "min        0.00000      0.000000           0.000000      0.000000   \n",
       "25%        0.00000      0.000000           0.000000      0.000000   \n",
       "50%        0.00000      0.000000           0.000000      0.000000   \n",
       "75%        0.00000      0.000000           0.000000      1.000000   \n",
       "max        1.00000     77.000000           4.000000      1.000000   \n",
       "\n",
       "       num_compromised  ...  dst_host_count  dst_host_srv_count  \\\n",
       "count     25192.000000  ...    25192.000000        25192.000000   \n",
       "mean          0.227850  ...      182.532074          115.063036   \n",
       "std          10.417352  ...       98.993895          110.646850   \n",
       "min           0.000000  ...        0.000000            0.000000   \n",
       "25%           0.000000  ...       84.000000           10.000000   \n",
       "50%           0.000000  ...      255.000000           61.000000   \n",
       "75%           0.000000  ...      255.000000          255.000000   \n",
       "max         884.000000  ...      255.000000          255.000000   \n",
       "\n",
       "       dst_host_same_srv_rate  dst_host_diff_srv_rate  \\\n",
       "count            25192.000000            25192.000000   \n",
       "mean                 0.519791                0.082539   \n",
       "std                  0.448944                0.187191   \n",
       "min                  0.000000                0.000000   \n",
       "25%                  0.050000                0.000000   \n",
       "50%                  0.510000                0.030000   \n",
       "75%                  1.000000                0.070000   \n",
       "max                  1.000000                1.000000   \n",
       "\n",
       "       dst_host_same_src_port_rate  dst_host_srv_diff_host_rate  \\\n",
       "count                 25192.000000                 25192.000000   \n",
       "mean                      0.147453                     0.031844   \n",
       "std                       0.308367                     0.110575   \n",
       "min                       0.000000                     0.000000   \n",
       "25%                       0.000000                     0.000000   \n",
       "50%                       0.000000                     0.000000   \n",
       "75%                       0.060000                     0.020000   \n",
       "max                       1.000000                     1.000000   \n",
       "\n",
       "       dst_host_serror_rate  dst_host_srv_serror_rate  dst_host_rerror_rate  \\\n",
       "count          25192.000000              25192.000000          25192.000000   \n",
       "mean               0.285800                  0.279846              0.117800   \n",
       "std                0.445316                  0.446075              0.305869   \n",
       "min                0.000000                  0.000000              0.000000   \n",
       "25%                0.000000                  0.000000              0.000000   \n",
       "50%                0.000000                  0.000000              0.000000   \n",
       "75%                1.000000                  1.000000              0.000000   \n",
       "max                1.000000                  1.000000              1.000000   \n",
       "\n",
       "       dst_host_srv_rerror_rate  \n",
       "count              25192.000000  \n",
       "mean                   0.118769  \n",
       "std                    0.317333  \n",
       "min                    0.000000  \n",
       "25%                    0.000000  \n",
       "50%                    0.000000  \n",
       "75%                    0.000000  \n",
       "max                    1.000000  \n",
       "\n",
       "[8 rows x 38 columns]"
      ]
     },
     "execution_count": 7,
     "metadata": {},
     "output_type": "execute_result"
    },
    {
     "data": {
      "application/javascript": [
       "\n",
       "            setTimeout(function() {\n",
       "                var nbb_cell_id = 7;\n",
       "                var nbb_unformatted_code = \"df.describe()\";\n",
       "                var nbb_formatted_code = \"df.describe()\";\n",
       "                var nbb_cells = Jupyter.notebook.get_cells();\n",
       "                for (var i = 0; i < nbb_cells.length; ++i) {\n",
       "                    if (nbb_cells[i].input_prompt_number == nbb_cell_id) {\n",
       "                        if (nbb_cells[i].get_text() == nbb_unformatted_code) {\n",
       "                             nbb_cells[i].set_text(nbb_formatted_code);\n",
       "                        }\n",
       "                        break;\n",
       "                    }\n",
       "                }\n",
       "            }, 500);\n",
       "            "
      ],
      "text/plain": [
       "<IPython.core.display.Javascript object>"
      ]
     },
     "metadata": {},
     "output_type": "display_data"
    }
   ],
   "source": [
    "df.describe()"
   ]
  },
  {
   "cell_type": "markdown",
   "id": "4a76b3a1",
   "metadata": {},
   "source": [
    "The majority of the continuous features such as duration, src_bytes, and dst_bytes have very large standard deviations and ranges. Thus, these continuous features will be transformed to a feature range of [0, 1] in the preprocessing phase"
   ]
  },
  {
   "cell_type": "markdown",
   "id": "3aedbb6b",
   "metadata": {},
   "source": [
    "## Class Distribution"
   ]
  },
  {
   "cell_type": "code",
   "execution_count": 8,
   "id": "833d7b14",
   "metadata": {},
   "outputs": [
    {
     "data": {
      "image/png": "[encoded data removed]",
      "text/plain": [
       "<Figure size 432x288 with 1 Axes>"
      ]
     },
     "metadata": {},
     "output_type": "display_data"
    },
    {
     "data": {
      "application/javascript": [
       "\n",
       "            setTimeout(function() {\n",
       "                var nbb_cell_id = 8;\n",
       "                var nbb_unformatted_code = \"labels = df[\\\"class\\\"].value_counts().index\\n\\nfig, ax = plt.subplots()\\n_, _, autopcts = ax.pie(\\n    df[\\\"class\\\"].value_counts(),\\n    textprops={\\\"fontsize\\\": 14},\\n    labels=labels,\\n    colors=(\\\"green\\\", \\\"red\\\"),\\n    autopct=\\\"%.2f%%\\\",\\n    startangle=60,\\n    explode=(0, 0.05),\\n)\\n\\nplt.setp(autopcts, **{\\\"color\\\": \\\"white\\\", \\\"weight\\\": \\\"bold\\\", \\\"fontsize\\\": 13})\\nax.set_title(\\\"Class Distribution\\\", fontdict={\\\"fontsize\\\": 16})\\n\\nplt.show()\";\n",
       "                var nbb_formatted_code = \"labels = df[\\\"class\\\"].value_counts().index\\n\\nfig, ax = plt.subplots()\\n_, _, autopcts = ax.pie(\\n    df[\\\"class\\\"].value_counts(),\\n    textprops={\\\"fontsize\\\": 14},\\n    labels=labels,\\n    colors=(\\\"green\\\", \\\"red\\\"),\\n    autopct=\\\"%.2f%%\\\",\\n    startangle=60,\\n    explode=(0, 0.05),\\n)\\n\\nplt.setp(autopcts, **{\\\"color\\\": \\\"white\\\", \\\"weight\\\": \\\"bold\\\", \\\"fontsize\\\": 13})\\nax.set_title(\\\"Class Distribution\\\", fontdict={\\\"fontsize\\\": 16})\\n\\nplt.show()\";\n",
       "                var nbb_cells = Jupyter.notebook.get_cells();\n",
       "                for (var i = 0; i < nbb_cells.length; ++i) {\n",
       "                    if (nbb_cells[i].input_prompt_number == nbb_cell_id) {\n",
       "                        if (nbb_cells[i].get_text() == nbb_unformatted_code) {\n",
       "                             nbb_cells[i].set_text(nbb_formatted_code);\n",
       "                        }\n",
       "                        break;\n",
       "                    }\n",
       "                }\n",
       "            }, 500);\n",
       "            "
      ],
      "text/plain": [
       "<IPython.core.display.Javascript object>"
      ]
     },
     "metadata": {},
     "output_type": "display_data"
    }
   ],
   "source": [
    "labels = df[\"class\"].value_counts().index\n",
    "\n",
    "fig, ax = plt.subplots()\n",
    "_, _, autopcts = ax.pie(\n",
    "    df[\"class\"].value_counts(),\n",
    "    textprops={\"fontsize\": 14},\n",
    "    labels=labels,\n",
    "    colors=(\"green\", \"red\"),\n",
    "    autopct=\"%.2f%%\",\n",
    "    startangle=60,\n",
    "    explode=(0, 0.05),\n",
    ")\n",
    "\n",
    "plt.setp(autopcts, **{\"color\": \"white\", \"weight\": \"bold\", \"fontsize\": 13})\n",
    "ax.set_title(\"Class Distribution\", fontdict={\"fontsize\": 16})\n",
    "\n",
    "plt.show()"
   ]
  },
  {
   "cell_type": "markdown",
   "id": "63c6ff11",
   "metadata": {},
   "source": [
    "Overall, the class distribution is slightly skewed towards the 'Normal' class, thus stratified cross validation (CV) will be used to ensure that the folds preserve the percentage of samples for each class. The 'Normal' class represents network traffic that is not indicative of an intrusion while the 'Anomaly' class represents network traffic that is associated with malicious behavior."
   ]
  },
  {
   "cell_type": "markdown",
   "id": "3995015d",
   "metadata": {},
   "source": [
    "# Pre-processing"
   ]
  },
  {
   "cell_type": "code",
   "execution_count": 9,
   "id": "c1274c03",
   "metadata": {},
   "outputs": [
    {
     "data": {
      "application/javascript": [
       "\n",
       "            setTimeout(function() {\n",
       "                var nbb_cell_id = 9;\n",
       "                var nbb_unformatted_code = \"cols_to_drop = [col for col in list(df) if df[col].nunique() <= 1]\\ndf = df.drop(columns=cols_to_drop)\";\n",
       "                var nbb_formatted_code = \"cols_to_drop = [col for col in list(df) if df[col].nunique() <= 1]\\ndf = df.drop(columns=cols_to_drop)\";\n",
       "                var nbb_cells = Jupyter.notebook.get_cells();\n",
       "                for (var i = 0; i < nbb_cells.length; ++i) {\n",
       "                    if (nbb_cells[i].input_prompt_number == nbb_cell_id) {\n",
       "                        if (nbb_cells[i].get_text() == nbb_unformatted_code) {\n",
       "                             nbb_cells[i].set_text(nbb_formatted_code);\n",
       "                        }\n",
       "                        break;\n",
       "                    }\n",
       "                }\n",
       "            }, 500);\n",
       "            "
      ],
      "text/plain": [
       "<IPython.core.display.Javascript object>"
      ]
     },
     "metadata": {},
     "output_type": "display_data"
    }
   ],
   "source": [
    "cols_to_drop = [col for col in list(df) if df[col].nunique() <= 1]\n",
    "df = df.drop(columns=cols_to_drop)"
   ]
  },
  {
   "cell_type": "markdown",
   "id": "0d33962d",
   "metadata": {},
   "source": [
    "All features with only 1 unique value are dropped since they are futile for a classification task. The only 2 features that have 1 unique value are 'num_outbound_cmds' and 'is_host_login'."
   ]
  },
  {
   "cell_type": "code",
   "execution_count": 10,
   "id": "dd258efc",
   "metadata": {},
   "outputs": [
    {
     "data": {
      "application/javascript": [
       "\n",
       "            setTimeout(function() {\n",
       "                var nbb_cell_id = 10;\n",
       "                var nbb_unformatted_code = \"X = df.iloc[:, :-1]\\ny = df[\\\"class\\\"]\";\n",
       "                var nbb_formatted_code = \"X = df.iloc[:, :-1]\\ny = df[\\\"class\\\"]\";\n",
       "                var nbb_cells = Jupyter.notebook.get_cells();\n",
       "                for (var i = 0; i < nbb_cells.length; ++i) {\n",
       "                    if (nbb_cells[i].input_prompt_number == nbb_cell_id) {\n",
       "                        if (nbb_cells[i].get_text() == nbb_unformatted_code) {\n",
       "                             nbb_cells[i].set_text(nbb_formatted_code);\n",
       "                        }\n",
       "                        break;\n",
       "                    }\n",
       "                }\n",
       "            }, 500);\n",
       "            "
      ],
      "text/plain": [
       "<IPython.core.display.Javascript object>"
      ]
     },
     "metadata": {},
     "output_type": "display_data"
    }
   ],
   "source": [
    "X = df.iloc[:, :-1]\n",
    "y = df[\"class\"]"
   ]
  },
  {
   "cell_type": "markdown",
   "id": "390be78c",
   "metadata": {},
   "source": [
    "The data is separated into two components. X contains the features of the dataset while y contains the class labels for each instance."
   ]
  },
  {
   "cell_type": "code",
   "execution_count": 11,
   "id": "b65a55a0",
   "metadata": {},
   "outputs": [
    {
     "data": {
      "text/plain": [
       "['land', 'urgent', 'logged_in', 'root_shell', 'num_shells', 'is_guest_login']"
      ]
     },
     "execution_count": 11,
     "metadata": {},
     "output_type": "execute_result"
    },
    {
     "data": {
      "application/javascript": [
       "\n",
       "            setTimeout(function() {\n",
       "                var nbb_cell_id = 11;\n",
       "                var nbb_unformatted_code = \"binary_features = df.columns[df.isin([0, 1]).all()].tolist()\\nbinary_features\";\n",
       "                var nbb_formatted_code = \"binary_features = df.columns[df.isin([0, 1]).all()].tolist()\\nbinary_features\";\n",
       "                var nbb_cells = Jupyter.notebook.get_cells();\n",
       "                for (var i = 0; i < nbb_cells.length; ++i) {\n",
       "                    if (nbb_cells[i].input_prompt_number == nbb_cell_id) {\n",
       "                        if (nbb_cells[i].get_text() == nbb_unformatted_code) {\n",
       "                             nbb_cells[i].set_text(nbb_formatted_code);\n",
       "                        }\n",
       "                        break;\n",
       "                    }\n",
       "                }\n",
       "            }, 500);\n",
       "            "
      ],
      "text/plain": [
       "<IPython.core.display.Javascript object>"
      ]
     },
     "metadata": {},
     "output_type": "display_data"
    }
   ],
   "source": [
    "binary_features = df.columns[df.isin([0, 1]).all()].tolist()\n",
    "binary_features"
   ]
  },
  {
   "cell_type": "markdown",
   "id": "29a12efb",
   "metadata": {},
   "source": [
    "All the binary features do not need to be scaled to a feature range of [0, 1], thus the feature names are extracted from the dataframe."
   ]
  },
  {
   "cell_type": "code",
   "execution_count": 12,
   "id": "be13229d",
   "metadata": {},
   "outputs": [
    {
     "data": {
      "application/javascript": [
       "\n",
       "            setTimeout(function() {\n",
       "                var nbb_cell_id = 12;\n",
       "                var nbb_unformatted_code = \"numeric_features_nb = df.select_dtypes(\\\"number\\\").columns.drop(binary_features).tolist()\";\n",
       "                var nbb_formatted_code = \"numeric_features_nb = df.select_dtypes(\\\"number\\\").columns.drop(binary_features).tolist()\";\n",
       "                var nbb_cells = Jupyter.notebook.get_cells();\n",
       "                for (var i = 0; i < nbb_cells.length; ++i) {\n",
       "                    if (nbb_cells[i].input_prompt_number == nbb_cell_id) {\n",
       "                        if (nbb_cells[i].get_text() == nbb_unformatted_code) {\n",
       "                             nbb_cells[i].set_text(nbb_formatted_code);\n",
       "                        }\n",
       "                        break;\n",
       "                    }\n",
       "                }\n",
       "            }, 500);\n",
       "            "
      ],
      "text/plain": [
       "<IPython.core.display.Javascript object>"
      ]
     },
     "metadata": {},
     "output_type": "display_data"
    }
   ],
   "source": [
    "numeric_features_nb = df.select_dtypes(\"number\").columns.drop(binary_features).tolist()"
   ]
  },
  {
   "cell_type": "markdown",
   "id": "438c2533",
   "metadata": {},
   "source": [
    "All the numeric features that are non-binary, i.e., continuous, will be scaled to a feature range of [0, 1] using MinMaxScaler()."
   ]
  },
  {
   "cell_type": "code",
   "execution_count": 13,
   "id": "343d79e5",
   "metadata": {},
   "outputs": [
    {
     "data": {
      "application/javascript": [
       "\n",
       "            setTimeout(function() {\n",
       "                var nbb_cell_id = 13;\n",
       "                var nbb_unformatted_code = \"enc = OrdinalEncoder(handle_unknown=\\\"ignore\\\")\\nmms = MinMaxScaler()\\n\\nct = make_column_transformer(\\n    (enc, [\\\"protocol_type\\\", \\\"service\\\", \\\"flag\\\"]),\\n    (mms, numeric_features_nb),\\n    remainder=\\\"passthrough\\\",\\n)\";\n",
       "                var nbb_formatted_code = \"enc = OrdinalEncoder(handle_unknown=\\\"ignore\\\")\\nmms = MinMaxScaler()\\n\\nct = make_column_transformer(\\n    (enc, [\\\"protocol_type\\\", \\\"service\\\", \\\"flag\\\"]),\\n    (mms, numeric_features_nb),\\n    remainder=\\\"passthrough\\\",\\n)\";\n",
       "                var nbb_cells = Jupyter.notebook.get_cells();\n",
       "                for (var i = 0; i < nbb_cells.length; ++i) {\n",
       "                    if (nbb_cells[i].input_prompt_number == nbb_cell_id) {\n",
       "                        if (nbb_cells[i].get_text() == nbb_unformatted_code) {\n",
       "                             nbb_cells[i].set_text(nbb_formatted_code);\n",
       "                        }\n",
       "                        break;\n",
       "                    }\n",
       "                }\n",
       "            }, 500);\n",
       "            "
      ],
      "text/plain": [
       "<IPython.core.display.Javascript object>"
      ]
     },
     "metadata": {},
     "output_type": "display_data"
    }
   ],
   "source": [
    "enc = OrdinalEncoder(handle_unknown=\"ignore\")\n",
    "mms = MinMaxScaler()\n",
    "\n",
    "ct = make_column_transformer(\n",
    "    (enc, [\"protocol_type\", \"service\", \"flag\"]),\n",
    "    (mms, numeric_features_nb),\n",
    "    remainder=\"passthrough\",\n",
    ")"
   ]
  },
  {
   "cell_type": "markdown",
   "id": "0f41dcb6",
   "metadata": {},
   "source": [
    "The 3 categorical features, 'protocol_type', 'service', and 'flag' are encoded using an ordinal encoder. The ordinal encoder transforms a categorical feature to an integer range in 0 to n_categories - 1. The above 3 feature seem to be nominal, thus I initially tried using one hot encoding. However, after using the ordinal encoder, I compared the accuracy of the models and found that all classifiers achieved higher accuracy using the ordinal encoder. Furthermore, the one hot encoder resulted in the 'service' feature being split into 66 distinct columns as that feature can take on 66 values. The higher accuracy of the classifiers using ordinal encoding on the categorical features demonstrates that although these feature may seem to be nominal based on the concepts they represent, they are highly likely to posses a natural ordering. The ordinal encoder is set to handle unknown feature values from the testing set during CV evaluation by ignoring such values. Thus, sklearn's ordinal encoder was used as opposed to the pandas ordinal encoder since it can handle unknown categorical features seen during CV.\n",
    "\n",
    "The class labels did not need to be encoded since the majority of sklearn's classifiers automatically encode the target labels using a label encoder. All other features are already numeric, thus they were not encoded via the 'remainder=\"passthrough\"' setting.\n",
    "\n",
    "All these feature transformations (column transformations) will be used in a pipeline. A pipeline was used as it makes it easier to compose estimators since at every fit or predict call within the CV procedure, it will automatically apply the column transformations. This will prevent information leakage since the feature transformations will not be applied to the training set as a whole."
   ]
  },
  {
   "cell_type": "code",
   "execution_count": 14,
   "id": "1bffc4ad",
   "metadata": {},
   "outputs": [
    {
     "data": {
      "application/javascript": [
       "\n",
       "            setTimeout(function() {\n",
       "                var nbb_cell_id = 14;\n",
       "                var nbb_unformatted_code = \"def extract_feature_names(ct):\\n    ct_temp = ct\\n    ct_temp.fit(X, y)\\n    features = []\\n\\n    # disregard remainder = \\\"passthrough\\\"\\n    for transformer in ct_temp.transformers_[:-1]:\\n        features += transformer[2]\\n\\n    return features\\n\\n\\nall_features = extract_feature_names(ct)\\n\\n# have to define passedthrough_features since they were not explicitly stated\\n# when creating the column transformer\\npassedthrough_features = [\\n    \\\"land\\\",\\n    \\\"urgent\\\",\\n    \\\"logged_in\\\",\\n    \\\"root_shell\\\",\\n    \\\"num_shells\\\",\\n    \\\"is_guest_login\\\",\\n]\\nall_features = all_features + passedthrough_features\";\n",
       "                var nbb_formatted_code = \"def extract_feature_names(ct):\\n    ct_temp = ct\\n    ct_temp.fit(X, y)\\n    features = []\\n\\n    # disregard remainder = \\\"passthrough\\\"\\n    for transformer in ct_temp.transformers_[:-1]:\\n        features += transformer[2]\\n\\n    return features\\n\\n\\nall_features = extract_feature_names(ct)\\n\\n# have to define passedthrough_features since they were not explicitly stated\\n# when creating the column transformer\\npassedthrough_features = [\\n    \\\"land\\\",\\n    \\\"urgent\\\",\\n    \\\"logged_in\\\",\\n    \\\"root_shell\\\",\\n    \\\"num_shells\\\",\\n    \\\"is_guest_login\\\",\\n]\\nall_features = all_features + passedthrough_features\";\n",
       "                var nbb_cells = Jupyter.notebook.get_cells();\n",
       "                for (var i = 0; i < nbb_cells.length; ++i) {\n",
       "                    if (nbb_cells[i].input_prompt_number == nbb_cell_id) {\n",
       "                        if (nbb_cells[i].get_text() == nbb_unformatted_code) {\n",
       "                             nbb_cells[i].set_text(nbb_formatted_code);\n",
       "                        }\n",
       "                        break;\n",
       "                    }\n",
       "                }\n",
       "            }, 500);\n",
       "            "
      ],
      "text/plain": [
       "<IPython.core.display.Javascript object>"
      ]
     },
     "metadata": {},
     "output_type": "display_data"
    }
   ],
   "source": [
    "def extract_feature_names(ct):\n",
    "    ct_temp = ct\n",
    "    ct_temp.fit(X, y)\n",
    "    features = []\n",
    "\n",
    "    # disregard remainder = \"passthrough\"\n",
    "    for transformer in ct_temp.transformers_[:-1]:\n",
    "        features += transformer[2]\n",
    "\n",
    "    return features\n",
    "\n",
    "\n",
    "all_features = extract_feature_names(ct)\n",
    "\n",
    "# have to define passedthrough_features since they were not explicitly stated\n",
    "# when creating the column transformer\n",
    "passedthrough_features = [\n",
    "    \"land\",\n",
    "    \"urgent\",\n",
    "    \"logged_in\",\n",
    "    \"root_shell\",\n",
    "    \"num_shells\",\n",
    "    \"is_guest_login\",\n",
    "]\n",
    "all_features = all_features + passedthrough_features"
   ]
  },
  {
   "cell_type": "markdown",
   "id": "c9396d64",
   "metadata": {},
   "source": [
    "The feature names are extracted from the column transformer since the features will be re-ordered by the transformer. This will be used to extract the feature names when feature selection is used."
   ]
  },
  {
   "cell_type": "markdown",
   "id": "13183709",
   "metadata": {},
   "source": [
    "# Cross Validation (CV)"
   ]
  },
  {
   "cell_type": "code",
   "execution_count": 15,
   "id": "87fd34f9",
   "metadata": {},
   "outputs": [
    {
     "data": {
      "application/javascript": [
       "\n",
       "            setTimeout(function() {\n",
       "                var nbb_cell_id = 15;\n",
       "                var nbb_unformatted_code = \"cv = RepeatedStratifiedKFold(n_splits=10, n_repeats=3, random_state=1234)\";\n",
       "                var nbb_formatted_code = \"cv = RepeatedStratifiedKFold(n_splits=10, n_repeats=3, random_state=1234)\";\n",
       "                var nbb_cells = Jupyter.notebook.get_cells();\n",
       "                for (var i = 0; i < nbb_cells.length; ++i) {\n",
       "                    if (nbb_cells[i].input_prompt_number == nbb_cell_id) {\n",
       "                        if (nbb_cells[i].get_text() == nbb_unformatted_code) {\n",
       "                             nbb_cells[i].set_text(nbb_formatted_code);\n",
       "                        }\n",
       "                        break;\n",
       "                    }\n",
       "                }\n",
       "            }, 500);\n",
       "            "
      ],
      "text/plain": [
       "<IPython.core.display.Javascript object>"
      ]
     },
     "metadata": {},
     "output_type": "display_data"
    }
   ],
   "source": [
    "cv = RepeatedStratifiedKFold(n_splits=10, n_repeats=3, random_state=1234)"
   ]
  },
  {
   "cell_type": "markdown",
   "id": "ad37918e",
   "metadata": {},
   "source": [
    "As seen above, the class feature is relatively skewed towards the 'Normal' class, thus repeated stratified CV will be used for evaluation. Stratified 10-Fold CV will be run 3 times with different randomization in each repetition. Since randomized CV splitters such as RepeatedStratifiedKFold() can return different results for each call of the split, random_state is set to an integer in order to make the results reproducible across different runs."
   ]
  },
  {
   "cell_type": "markdown",
   "id": "c25f33c2",
   "metadata": {},
   "source": [
    "# Naive Bayes"
   ]
  },
  {
   "cell_type": "markdown",
   "id": "bb8ba677",
   "metadata": {},
   "source": [
    "## Default Hyperparameters"
   ]
  },
  {
   "cell_type": "code",
   "execution_count": 16,
   "id": "189002a7",
   "metadata": {},
   "outputs": [
    {
     "name": "stdout",
     "output_type": "stream",
     "text": [
      "0.895 CV accuracy with a standard deviation of 0.006.\n"
     ]
    },
    {
     "data": {
      "application/javascript": [
       "\n",
       "            setTimeout(function() {\n",
       "                var nbb_cell_id = 16;\n",
       "                var nbb_unformatted_code = \"pipe = make_pipeline(ct, GaussianNB())\\nscores = cross_val_score(pipe, X, y, cv=cv)\\nprint(\\n    \\\"%0.3f CV accuracy with a standard deviation of %0.3f.\\\"\\n    % (scores.mean(), scores.std())\\n)\";\n",
       "                var nbb_formatted_code = \"pipe = make_pipeline(ct, GaussianNB())\\nscores = cross_val_score(pipe, X, y, cv=cv)\\nprint(\\n    \\\"%0.3f CV accuracy with a standard deviation of %0.3f.\\\"\\n    % (scores.mean(), scores.std())\\n)\";\n",
       "                var nbb_cells = Jupyter.notebook.get_cells();\n",
       "                for (var i = 0; i < nbb_cells.length; ++i) {\n",
       "                    if (nbb_cells[i].input_prompt_number == nbb_cell_id) {\n",
       "                        if (nbb_cells[i].get_text() == nbb_unformatted_code) {\n",
       "                             nbb_cells[i].set_text(nbb_formatted_code);\n",
       "                        }\n",
       "                        break;\n",
       "                    }\n",
       "                }\n",
       "            }, 500);\n",
       "            "
      ],
      "text/plain": [
       "<IPython.core.display.Javascript object>"
      ]
     },
     "metadata": {},
     "output_type": "display_data"
    }
   ],
   "source": [
    "pipe = make_pipeline(ct, GaussianNB())\n",
    "scores = cross_val_score(pipe, X, y, cv=cv)\n",
    "print(\n",
    "    \"%0.3f CV accuracy with a standard deviation of %0.3f.\"\n",
    "    % (scores.mean(), scores.std())\n",
    ")"
   ]
  },
  {
   "cell_type": "markdown",
   "id": "49d4d7af",
   "metadata": {},
   "source": [
    "## Hyperparameter Tuning"
   ]
  },
  {
   "cell_type": "code",
   "execution_count": 17,
   "id": "1b94c24e",
   "metadata": {},
   "outputs": [
    {
     "name": "stdout",
     "output_type": "stream",
     "text": [
      "Best hyperparameter (CV accuracy = 0.897):\n",
      "{'gaussiannb__var_smoothing': 6.080224261649427e-09}\n"
     ]
    },
    {
     "data": {
      "application/javascript": [
       "\n",
       "            setTimeout(function() {\n",
       "                var nbb_cell_id = 17;\n",
       "                var nbb_unformatted_code = \"np.random.seed(1234)\\n\\npipe = make_pipeline(ct, GaussianNB())\\n\\nsmoothing_range = np.logspace(0, -15, num=200)\\n\\nparam_grid = {\\\"gaussiannb__var_smoothing\\\": smoothing_range}\\n\\nsearch = GridSearchCV(estimator=pipe, param_grid=param_grid, cv=cv, n_jobs=-1)\\nsearch.fit(X, y)\\n\\nprint(\\\"Best hyperparameter (CV accuracy = %0.3f):\\\" % search.best_score_)\\nprint(search.best_params_)\";\n",
       "                var nbb_formatted_code = \"np.random.seed(1234)\\n\\npipe = make_pipeline(ct, GaussianNB())\\n\\nsmoothing_range = np.logspace(0, -15, num=200)\\n\\nparam_grid = {\\\"gaussiannb__var_smoothing\\\": smoothing_range}\\n\\nsearch = GridSearchCV(estimator=pipe, param_grid=param_grid, cv=cv, n_jobs=-1)\\nsearch.fit(X, y)\\n\\nprint(\\\"Best hyperparameter (CV accuracy = %0.3f):\\\" % search.best_score_)\\nprint(search.best_params_)\";\n",
       "                var nbb_cells = Jupyter.notebook.get_cells();\n",
       "                for (var i = 0; i < nbb_cells.length; ++i) {\n",
       "                    if (nbb_cells[i].input_prompt_number == nbb_cell_id) {\n",
       "                        if (nbb_cells[i].get_text() == nbb_unformatted_code) {\n",
       "                             nbb_cells[i].set_text(nbb_formatted_code);\n",
       "                        }\n",
       "                        break;\n",
       "                    }\n",
       "                }\n",
       "            }, 500);\n",
       "            "
      ],
      "text/plain": [
       "<IPython.core.display.Javascript object>"
      ]
     },
     "metadata": {},
     "output_type": "display_data"
    }
   ],
   "source": [
    "np.random.seed(1234)\n",
    "\n",
    "pipe = make_pipeline(ct, GaussianNB())\n",
    "\n",
    "smoothing_range = np.logspace(0, -15, num=200)\n",
    "\n",
    "param_grid = {\"gaussiannb__var_smoothing\": smoothing_range}\n",
    "\n",
    "search = GridSearchCV(estimator=pipe, param_grid=param_grid, cv=cv, n_jobs=-1)\n",
    "search.fit(X, y)\n",
    "\n",
    "print(\"Best hyperparameter (CV accuracy = %0.3f):\" % search.best_score_)\n",
    "print(search.best_params_)"
   ]
  },
  {
   "cell_type": "code",
   "execution_count": 18,
   "id": "a6f08e17",
   "metadata": {},
   "outputs": [
    {
     "data": {
      "image/png": "[encoded data removed]",
      "text/plain": [
       "<Figure size 432x288 with 1 Axes>"
      ]
     },
     "metadata": {},
     "output_type": "display_data"
    },
    {
     "data": {
      "application/javascript": [
       "\n",
       "            setTimeout(function() {\n",
       "                var nbb_cell_id = 18;\n",
       "                var nbb_unformatted_code = \"tuning_results = pd.DataFrame(search.cv_results_[\\\"params\\\"])\\ntuning_results[\\\"mean_test_score\\\"] = search.cv_results_[\\\"mean_test_score\\\"]\\ntuning_results[\\\"mean_test_score\\\"] = search.cv_results_[\\\"mean_test_score\\\"]\\n\\nplt.plot(\\n    tuning_results[\\\"gaussiannb__var_smoothing\\\"],\\n    tuning_results[\\\"mean_test_score\\\"],\\n)\\n\\nplt.xlabel(\\\"Variance Smoothing\\\")\\nplt.ylabel(\\\"CV Accuracy\\\")\\nplt.title(\\\"NB Tuning\\\")\\nplt.show()\";\n",
       "                var nbb_formatted_code = \"tuning_results = pd.DataFrame(search.cv_results_[\\\"params\\\"])\\ntuning_results[\\\"mean_test_score\\\"] = search.cv_results_[\\\"mean_test_score\\\"]\\ntuning_results[\\\"mean_test_score\\\"] = search.cv_results_[\\\"mean_test_score\\\"]\\n\\nplt.plot(\\n    tuning_results[\\\"gaussiannb__var_smoothing\\\"],\\n    tuning_results[\\\"mean_test_score\\\"],\\n)\\n\\nplt.xlabel(\\\"Variance Smoothing\\\")\\nplt.ylabel(\\\"CV Accuracy\\\")\\nplt.title(\\\"NB Tuning\\\")\\nplt.show()\";\n",
       "                var nbb_cells = Jupyter.notebook.get_cells();\n",
       "                for (var i = 0; i < nbb_cells.length; ++i) {\n",
       "                    if (nbb_cells[i].input_prompt_number == nbb_cell_id) {\n",
       "                        if (nbb_cells[i].get_text() == nbb_unformatted_code) {\n",
       "                             nbb_cells[i].set_text(nbb_formatted_code);\n",
       "                        }\n",
       "                        break;\n",
       "                    }\n",
       "                }\n",
       "            }, 500);\n",
       "            "
      ],
      "text/plain": [
       "<IPython.core.display.Javascript object>"
      ]
     },
     "metadata": {},
     "output_type": "display_data"
    }
   ],
   "source": [
    "tuning_results = pd.DataFrame(search.cv_results_[\"params\"])\n",
    "tuning_results[\"mean_test_score\"] = search.cv_results_[\"mean_test_score\"]\n",
    "tuning_results[\"mean_test_score\"] = search.cv_results_[\"mean_test_score\"]\n",
    "\n",
    "plt.plot(\n",
    "    tuning_results[\"gaussiannb__var_smoothing\"],\n",
    "    tuning_results[\"mean_test_score\"],\n",
    ")\n",
    "\n",
    "plt.xlabel(\"Variance Smoothing\")\n",
    "plt.ylabel(\"CV Accuracy\")\n",
    "plt.title(\"NB Tuning\")\n",
    "plt.show()"
   ]
  },
  {
   "cell_type": "markdown",
   "id": "a1917456",
   "metadata": {},
   "source": [
    "The tuning of the variance smoothing parameter did not improve the CV accuracy of the NB classifier significantly. The CV accuracy increased by $2 \\times 10^{-3}$. Nevertheless, it can be seen from the above graph that increasing the variance smoothing results in CV accuracy reductions as large as 20%. Variance smoothing has a default value of $1 \\times 10^{-9}$ and works by adding a portion of the biggest variance of all the features to the feature variances in order to achieve calculation stability."
   ]
  },
  {
   "cell_type": "markdown",
   "id": "614a179c",
   "metadata": {},
   "source": [
    "## Scheme Independent Feature Selection"
   ]
  },
  {
   "cell_type": "code",
   "execution_count": 19,
   "id": "2d9e194c",
   "metadata": {},
   "outputs": [
    {
     "name": "stdout",
     "output_type": "stream",
     "text": [
      "Features selected by forward sequential selection: \n"
     ]
    },
    {
     "data": {
      "text/html": [
       "<div>\n",
       "<style scoped>\n",
       "    .dataframe tbody tr th:only-of-type {\n",
       "        vertical-align: middle;\n",
       "    }\n",
       "\n",
       "    .dataframe tbody tr th {\n",
       "        vertical-align: top;\n",
       "    }\n",
       "\n",
       "    .dataframe thead th {\n",
       "        text-align: right;\n",
       "    }\n",
       "</style>\n",
       "<table border=\"1\" class=\"dataframe\">\n",
       "  <thead>\n",
       "    <tr style=\"text-align: right;\">\n",
       "      <th></th>\n",
       "      <th>Feature</th>\n",
       "    </tr>\n",
       "  </thead>\n",
       "  <tbody>\n",
       "    <tr>\n",
       "      <th>0</th>\n",
       "      <td>protocol_type</td>\n",
       "    </tr>\n",
       "    <tr>\n",
       "      <th>1</th>\n",
       "      <td>wrong_fragment</td>\n",
       "    </tr>\n",
       "    <tr>\n",
       "      <th>2</th>\n",
       "      <td>hot</td>\n",
       "    </tr>\n",
       "    <tr>\n",
       "      <th>3</th>\n",
       "      <td>srv_count</td>\n",
       "    </tr>\n",
       "    <tr>\n",
       "      <th>4</th>\n",
       "      <td>srv_serror_rate</td>\n",
       "    </tr>\n",
       "    <tr>\n",
       "      <th>5</th>\n",
       "      <td>srv_rerror_rate</td>\n",
       "    </tr>\n",
       "    <tr>\n",
       "      <th>6</th>\n",
       "      <td>same_srv_rate</td>\n",
       "    </tr>\n",
       "    <tr>\n",
       "      <th>7</th>\n",
       "      <td>diff_srv_rate</td>\n",
       "    </tr>\n",
       "    <tr>\n",
       "      <th>8</th>\n",
       "      <td>srv_diff_host_rate</td>\n",
       "    </tr>\n",
       "    <tr>\n",
       "      <th>9</th>\n",
       "      <td>dst_host_count</td>\n",
       "    </tr>\n",
       "    <tr>\n",
       "      <th>10</th>\n",
       "      <td>dst_host_srv_count</td>\n",
       "    </tr>\n",
       "    <tr>\n",
       "      <th>11</th>\n",
       "      <td>dst_host_same_srv_rate</td>\n",
       "    </tr>\n",
       "    <tr>\n",
       "      <th>12</th>\n",
       "      <td>dst_host_diff_srv_rate</td>\n",
       "    </tr>\n",
       "    <tr>\n",
       "      <th>13</th>\n",
       "      <td>dst_host_same_src_port_rate</td>\n",
       "    </tr>\n",
       "    <tr>\n",
       "      <th>14</th>\n",
       "      <td>dst_host_srv_diff_host_rate</td>\n",
       "    </tr>\n",
       "    <tr>\n",
       "      <th>15</th>\n",
       "      <td>dst_host_serror_rate</td>\n",
       "    </tr>\n",
       "    <tr>\n",
       "      <th>16</th>\n",
       "      <td>dst_host_srv_serror_rate</td>\n",
       "    </tr>\n",
       "    <tr>\n",
       "      <th>17</th>\n",
       "      <td>dst_host_srv_rerror_rate</td>\n",
       "    </tr>\n",
       "    <tr>\n",
       "      <th>18</th>\n",
       "      <td>logged_in</td>\n",
       "    </tr>\n",
       "  </tbody>\n",
       "</table>\n",
       "</div>"
      ],
      "text/plain": [
       "                        Feature\n",
       "0                 protocol_type\n",
       "1                wrong_fragment\n",
       "2                           hot\n",
       "3                     srv_count\n",
       "4               srv_serror_rate\n",
       "5               srv_rerror_rate\n",
       "6                 same_srv_rate\n",
       "7                 diff_srv_rate\n",
       "8            srv_diff_host_rate\n",
       "9                dst_host_count\n",
       "10           dst_host_srv_count\n",
       "11       dst_host_same_srv_rate\n",
       "12       dst_host_diff_srv_rate\n",
       "13  dst_host_same_src_port_rate\n",
       "14  dst_host_srv_diff_host_rate\n",
       "15         dst_host_serror_rate\n",
       "16     dst_host_srv_serror_rate\n",
       "17     dst_host_srv_rerror_rate\n",
       "18                    logged_in"
      ]
     },
     "execution_count": 19,
     "metadata": {},
     "output_type": "execute_result"
    },
    {
     "data": {
      "application/javascript": [
       "\n",
       "            setTimeout(function() {\n",
       "                var nbb_cell_id = 19;\n",
       "                var nbb_unformatted_code = \"le = LabelEncoder()\\nA = ct.fit_transform(X)\\nb = le.fit_transform(y)\\nlasso = LassoCV(random_state=1234).fit(A, b)\\nsfs_forward = SequentialFeatureSelector(lasso, direction=\\\"forward\\\", n_jobs=-1).fit(A, b)\\n\\nselected_features = [\\n    i for j, i in enumerate(all_features) if sfs_forward.get_support()[j]\\n]\\nprint(\\\"Features selected by forward sequential selection: \\\")\\n\\npd.DataFrame({\\\"Feature\\\": selected_features})\";\n",
       "                var nbb_formatted_code = \"le = LabelEncoder()\\nA = ct.fit_transform(X)\\nb = le.fit_transform(y)\\nlasso = LassoCV(random_state=1234).fit(A, b)\\nsfs_forward = SequentialFeatureSelector(lasso, direction=\\\"forward\\\", n_jobs=-1).fit(A, b)\\n\\nselected_features = [\\n    i for j, i in enumerate(all_features) if sfs_forward.get_support()[j]\\n]\\nprint(\\\"Features selected by forward sequential selection: \\\")\\n\\npd.DataFrame({\\\"Feature\\\": selected_features})\";\n",
       "                var nbb_cells = Jupyter.notebook.get_cells();\n",
       "                for (var i = 0; i < nbb_cells.length; ++i) {\n",
       "                    if (nbb_cells[i].input_prompt_number == nbb_cell_id) {\n",
       "                        if (nbb_cells[i].get_text() == nbb_unformatted_code) {\n",
       "                             nbb_cells[i].set_text(nbb_formatted_code);\n",
       "                        }\n",
       "                        break;\n",
       "                    }\n",
       "                }\n",
       "            }, 500);\n",
       "            "
      ],
      "text/plain": [
       "<IPython.core.display.Javascript object>"
      ]
     },
     "metadata": {},
     "output_type": "display_data"
    }
   ],
   "source": [
    "le = LabelEncoder()\n",
    "A = ct.fit_transform(X)\n",
    "b = le.fit_transform(y)\n",
    "lasso = LassoCV(random_state=1234).fit(A, b)\n",
    "sfs_forward = SequentialFeatureSelector(lasso, direction=\"forward\", n_jobs=-1).fit(A, b)\n",
    "\n",
    "selected_features = [\n",
    "    i for j, i in enumerate(all_features) if sfs_forward.get_support()[j]\n",
    "]\n",
    "print(\"Features selected by forward sequential selection: \")\n",
    "\n",
    "pd.DataFrame({\"Feature\": selected_features})"
   ]
  },
  {
   "cell_type": "code",
   "execution_count": 20,
   "id": "cb58e01f",
   "metadata": {},
   "outputs": [
    {
     "name": "stdout",
     "output_type": "stream",
     "text": [
      "Features selected by forward sequential selection: \n"
     ]
    },
    {
     "data": {
      "text/html": [
       "<div>\n",
       "<style scoped>\n",
       "    .dataframe tbody tr th:only-of-type {\n",
       "        vertical-align: middle;\n",
       "    }\n",
       "\n",
       "    .dataframe tbody tr th {\n",
       "        vertical-align: top;\n",
       "    }\n",
       "\n",
       "    .dataframe thead th {\n",
       "        text-align: right;\n",
       "    }\n",
       "</style>\n",
       "<table border=\"1\" class=\"dataframe\">\n",
       "  <thead>\n",
       "    <tr style=\"text-align: right;\">\n",
       "      <th></th>\n",
       "      <th>Feature</th>\n",
       "    </tr>\n",
       "  </thead>\n",
       "  <tbody>\n",
       "    <tr>\n",
       "      <th>0</th>\n",
       "      <td>protocol_type</td>\n",
       "    </tr>\n",
       "    <tr>\n",
       "      <th>1</th>\n",
       "      <td>wrong_fragment</td>\n",
       "    </tr>\n",
       "    <tr>\n",
       "      <th>2</th>\n",
       "      <td>hot</td>\n",
       "    </tr>\n",
       "    <tr>\n",
       "      <th>3</th>\n",
       "      <td>srv_count</td>\n",
       "    </tr>\n",
       "    <tr>\n",
       "      <th>4</th>\n",
       "      <td>srv_serror_rate</td>\n",
       "    </tr>\n",
       "    <tr>\n",
       "      <th>5</th>\n",
       "      <td>srv_rerror_rate</td>\n",
       "    </tr>\n",
       "    <tr>\n",
       "      <th>6</th>\n",
       "      <td>same_srv_rate</td>\n",
       "    </tr>\n",
       "    <tr>\n",
       "      <th>7</th>\n",
       "      <td>diff_srv_rate</td>\n",
       "    </tr>\n",
       "    <tr>\n",
       "      <th>8</th>\n",
       "      <td>srv_diff_host_rate</td>\n",
       "    </tr>\n",
       "    <tr>\n",
       "      <th>9</th>\n",
       "      <td>dst_host_count</td>\n",
       "    </tr>\n",
       "    <tr>\n",
       "      <th>10</th>\n",
       "      <td>dst_host_srv_count</td>\n",
       "    </tr>\n",
       "    <tr>\n",
       "      <th>11</th>\n",
       "      <td>dst_host_same_srv_rate</td>\n",
       "    </tr>\n",
       "    <tr>\n",
       "      <th>12</th>\n",
       "      <td>dst_host_diff_srv_rate</td>\n",
       "    </tr>\n",
       "    <tr>\n",
       "      <th>13</th>\n",
       "      <td>dst_host_same_src_port_rate</td>\n",
       "    </tr>\n",
       "    <tr>\n",
       "      <th>14</th>\n",
       "      <td>dst_host_srv_diff_host_rate</td>\n",
       "    </tr>\n",
       "    <tr>\n",
       "      <th>15</th>\n",
       "      <td>dst_host_serror_rate</td>\n",
       "    </tr>\n",
       "    <tr>\n",
       "      <th>16</th>\n",
       "      <td>dst_host_srv_serror_rate</td>\n",
       "    </tr>\n",
       "    <tr>\n",
       "      <th>17</th>\n",
       "      <td>dst_host_srv_rerror_rate</td>\n",
       "    </tr>\n",
       "    <tr>\n",
       "      <th>18</th>\n",
       "      <td>logged_in</td>\n",
       "    </tr>\n",
       "  </tbody>\n",
       "</table>\n",
       "</div>"
      ],
      "text/plain": [
       "                        Feature\n",
       "0                 protocol_type\n",
       "1                wrong_fragment\n",
       "2                           hot\n",
       "3                     srv_count\n",
       "4               srv_serror_rate\n",
       "5               srv_rerror_rate\n",
       "6                 same_srv_rate\n",
       "7                 diff_srv_rate\n",
       "8            srv_diff_host_rate\n",
       "9                dst_host_count\n",
       "10           dst_host_srv_count\n",
       "11       dst_host_same_srv_rate\n",
       "12       dst_host_diff_srv_rate\n",
       "13  dst_host_same_src_port_rate\n",
       "14  dst_host_srv_diff_host_rate\n",
       "15         dst_host_serror_rate\n",
       "16     dst_host_srv_serror_rate\n",
       "17     dst_host_srv_rerror_rate\n",
       "18                    logged_in"
      ]
     },
     "execution_count": 20,
     "metadata": {},
     "output_type": "execute_result"
    },
    {
     "data": {
      "application/javascript": [
       "\n",
       "            setTimeout(function() {\n",
       "                var nbb_cell_id = 20;\n",
       "                var nbb_unformatted_code = \"A = ct.fit_transform(X)\\nb = le.fit_transform(y)\\nlasso = LassoCV(random_state=1234).fit(A, b)\\nsfs_forward = SequentialFeatureSelector(lasso, direction=\\\"backward\\\", n_jobs=-1).fit(\\n    A, b\\n)\\n\\nselected_features = [\\n    i for j, i in enumerate(all_features) if sfs_forward.get_support()[j]\\n]\\nprint(\\\"Features selected by forward sequential selection: \\\")\\n\\npd.DataFrame({\\\"Feature\\\": selected_features})\";\n",
       "                var nbb_formatted_code = \"A = ct.fit_transform(X)\\nb = le.fit_transform(y)\\nlasso = LassoCV(random_state=1234).fit(A, b)\\nsfs_forward = SequentialFeatureSelector(lasso, direction=\\\"backward\\\", n_jobs=-1).fit(\\n    A, b\\n)\\n\\nselected_features = [\\n    i for j, i in enumerate(all_features) if sfs_forward.get_support()[j]\\n]\\nprint(\\\"Features selected by forward sequential selection: \\\")\\n\\npd.DataFrame({\\\"Feature\\\": selected_features})\";\n",
       "                var nbb_cells = Jupyter.notebook.get_cells();\n",
       "                for (var i = 0; i < nbb_cells.length; ++i) {\n",
       "                    if (nbb_cells[i].input_prompt_number == nbb_cell_id) {\n",
       "                        if (nbb_cells[i].get_text() == nbb_unformatted_code) {\n",
       "                             nbb_cells[i].set_text(nbb_formatted_code);\n",
       "                        }\n",
       "                        break;\n",
       "                    }\n",
       "                }\n",
       "            }, 500);\n",
       "            "
      ],
      "text/plain": [
       "<IPython.core.display.Javascript object>"
      ]
     },
     "metadata": {},
     "output_type": "display_data"
    }
   ],
   "source": [
    "A = ct.fit_transform(X)\n",
    "b = le.fit_transform(y)\n",
    "lasso = LassoCV(random_state=1234).fit(A, b)\n",
    "sfs_forward = SequentialFeatureSelector(lasso, direction=\"backward\", n_jobs=-1).fit(\n",
    "    A, b\n",
    ")\n",
    "\n",
    "selected_features = [\n",
    "    i for j, i in enumerate(all_features) if sfs_forward.get_support()[j]\n",
    "]\n",
    "print(\"Features selected by forward sequential selection: \")\n",
    "\n",
    "pd.DataFrame({\"Feature\": selected_features})"
   ]
  },
  {
   "cell_type": "markdown",
   "id": "f7d6e978",
   "metadata": {},
   "source": [
    "A lasso linear model was used for sequential feature selection (SFS). Surprisingly, the greedy SFS in the forwards and backwards direction both resulted in the same features being selected. This is generally not the case. Backward SFS starts with all the features and greedily removes features in an iterative fashion. Forward SFS starts with no features and greedily adds features. Backward SFS is often preferable as forward SFS starts with no features and can terminate \"early\" when there are no gains in the CV accuracy without considering larger feature subsets. However, it was evident that forwards feature selection had a much lower runtime than backwards feature selection. Thus, these tradeoffs are similar to the ones seen when considering pre-pruning vs. post pruning for a decision tree classifier.\n",
    "\n",
    "Guendouzi et al. [2] developed a new feature selection algorithm known as EDDE-LNS, which amalgamates Ensemblist Discrete Differential Evolution (EDDE) and large neighborhood search (LNS). They tested this algorithm on the original KDD'99 dataset and some of the most significant selected features were very similar to the ones obtained above using SFS, particularly for denial-of-service (DoS) based network intrusions."
   ]
  },
  {
   "cell_type": "code",
   "execution_count": 21,
   "id": "c7f6d757",
   "metadata": {},
   "outputs": [
    {
     "data": {
      "application/javascript": [
       "\n",
       "            setTimeout(function() {\n",
       "                var nbb_cell_id = 21;\n",
       "                var nbb_unformatted_code = \"X2 = df[selected_features]\\ny2 = df[\\\"class\\\"]\\n\\nenc2 = OrdinalEncoder(handle_unknown=\\\"ignore\\\")\\nmms2 = MinMaxScaler()\\n\\n# extract feature names to be scaled to a value in [0, 1]\\nscale_features = list(set(numeric_features_nb).intersection(set(X2.columns)))\\n\\nct2 = make_column_transformer(\\n    (enc2, [\\\"protocol_type\\\"]), (mms2, scale_features), remainder=\\\"passthrough\\\"\\n)\";\n",
       "                var nbb_formatted_code = \"X2 = df[selected_features]\\ny2 = df[\\\"class\\\"]\\n\\nenc2 = OrdinalEncoder(handle_unknown=\\\"ignore\\\")\\nmms2 = MinMaxScaler()\\n\\n# extract feature names to be scaled to a value in [0, 1]\\nscale_features = list(set(numeric_features_nb).intersection(set(X2.columns)))\\n\\nct2 = make_column_transformer(\\n    (enc2, [\\\"protocol_type\\\"]), (mms2, scale_features), remainder=\\\"passthrough\\\"\\n)\";\n",
       "                var nbb_cells = Jupyter.notebook.get_cells();\n",
       "                for (var i = 0; i < nbb_cells.length; ++i) {\n",
       "                    if (nbb_cells[i].input_prompt_number == nbb_cell_id) {\n",
       "                        if (nbb_cells[i].get_text() == nbb_unformatted_code) {\n",
       "                             nbb_cells[i].set_text(nbb_formatted_code);\n",
       "                        }\n",
       "                        break;\n",
       "                    }\n",
       "                }\n",
       "            }, 500);\n",
       "            "
      ],
      "text/plain": [
       "<IPython.core.display.Javascript object>"
      ]
     },
     "metadata": {},
     "output_type": "display_data"
    }
   ],
   "source": [
    "X2 = df[selected_features]\n",
    "y2 = df[\"class\"]\n",
    "\n",
    "enc2 = OrdinalEncoder(handle_unknown=\"ignore\")\n",
    "mms2 = MinMaxScaler()\n",
    "\n",
    "# extract feature names to be scaled to a value in [0, 1]\n",
    "scale_features = list(set(numeric_features_nb).intersection(set(X2.columns)))\n",
    "\n",
    "ct2 = make_column_transformer(\n",
    "    (enc2, [\"protocol_type\"]), (mms2, scale_features), remainder=\"passthrough\"\n",
    ")"
   ]
  },
  {
   "cell_type": "markdown",
   "id": "6b09dd5d",
   "metadata": {},
   "source": [
    "The same preprocessing that was used for the original dataset is now applied to the new dataframe containing the selected features only. However, the column transformer is altered since only a subset of the features are selected, thus the other features do not need preprocessing."
   ]
  },
  {
   "cell_type": "markdown",
   "id": "d417c209",
   "metadata": {},
   "source": []
  },
  {
   "cell_type": "code",
   "execution_count": 22,
   "id": "bda0c548",
   "metadata": {},
   "outputs": [
    {
     "name": "stdout",
     "output_type": "stream",
     "text": [
      "0.904 CV accuracy with a standard deviation of 0.006.\n"
     ]
    },
    {
     "data": {
      "application/javascript": [
       "\n",
       "            setTimeout(function() {\n",
       "                var nbb_cell_id = 22;\n",
       "                var nbb_unformatted_code = \"pipe = make_pipeline(ct2, GaussianNB())\\nscores = cross_val_score(pipe, X2, y2, cv=cv)\\nprint(\\n    \\\"%0.3f CV accuracy with a standard deviation of %0.3f.\\\"\\n    % (scores.mean(), scores.std())\\n)\";\n",
       "                var nbb_formatted_code = \"pipe = make_pipeline(ct2, GaussianNB())\\nscores = cross_val_score(pipe, X2, y2, cv=cv)\\nprint(\\n    \\\"%0.3f CV accuracy with a standard deviation of %0.3f.\\\"\\n    % (scores.mean(), scores.std())\\n)\";\n",
       "                var nbb_cells = Jupyter.notebook.get_cells();\n",
       "                for (var i = 0; i < nbb_cells.length; ++i) {\n",
       "                    if (nbb_cells[i].input_prompt_number == nbb_cell_id) {\n",
       "                        if (nbb_cells[i].get_text() == nbb_unformatted_code) {\n",
       "                             nbb_cells[i].set_text(nbb_formatted_code);\n",
       "                        }\n",
       "                        break;\n",
       "                    }\n",
       "                }\n",
       "            }, 500);\n",
       "            "
      ],
      "text/plain": [
       "<IPython.core.display.Javascript object>"
      ]
     },
     "metadata": {},
     "output_type": "display_data"
    }
   ],
   "source": [
    "pipe = make_pipeline(ct2, GaussianNB())\n",
    "scores = cross_val_score(pipe, X2, y2, cv=cv)\n",
    "print(\n",
    "    \"%0.3f CV accuracy with a standard deviation of %0.3f.\"\n",
    "    % (scores.mean(), scores.std())\n",
    ")"
   ]
  },
  {
   "cell_type": "markdown",
   "id": "81bca16c",
   "metadata": {},
   "source": [
    "With only 19 out of 39 attributes, NB with feature selection and no parameter tuning achieved a better CV accuracy than NB without feature selection and NB without feature selection and parameter tuning. Although the CV accuracy increased by at most 0.017, only about 49% of the total features were used as input to the classifier. Thus, feature selection's benefit is two-fold, increasing the overall CV accuracy while reducing the number of input features. This can result in easier interpretability and analysis of the classifier."
   ]
  },
  {
   "cell_type": "code",
   "execution_count": 23,
   "id": "af0f4430",
   "metadata": {},
   "outputs": [
    {
     "data": {
      "application/javascript": [
       "\n",
       "            setTimeout(function() {\n",
       "                var nbb_cell_id = 23;\n",
       "                var nbb_unformatted_code = \"# insert the best CV accuracy obtained by NB\\nbest_classifiers = {\\\"NB with FS\\\": scores.mean()}\";\n",
       "                var nbb_formatted_code = \"# insert the best CV accuracy obtained by NB\\nbest_classifiers = {\\\"NB with FS\\\": scores.mean()}\";\n",
       "                var nbb_cells = Jupyter.notebook.get_cells();\n",
       "                for (var i = 0; i < nbb_cells.length; ++i) {\n",
       "                    if (nbb_cells[i].input_prompt_number == nbb_cell_id) {\n",
       "                        if (nbb_cells[i].get_text() == nbb_unformatted_code) {\n",
       "                             nbb_cells[i].set_text(nbb_formatted_code);\n",
       "                        }\n",
       "                        break;\n",
       "                    }\n",
       "                }\n",
       "            }, 500);\n",
       "            "
      ],
      "text/plain": [
       "<IPython.core.display.Javascript object>"
      ]
     },
     "metadata": {},
     "output_type": "display_data"
    }
   ],
   "source": [
    "# insert the best CV accuracy obtained by NB\n",
    "best_classifiers = {\"NB with FS\": scores.mean()}"
   ]
  },
  {
   "cell_type": "markdown",
   "id": "fc85e25d",
   "metadata": {},
   "source": [
    "# Decision Tree (CART)"
   ]
  },
  {
   "cell_type": "markdown",
   "id": "b86f83d4",
   "metadata": {},
   "source": [
    "sklearn uses an optimized version of the CART algorithm."
   ]
  },
  {
   "cell_type": "markdown",
   "id": "b046fac6",
   "metadata": {},
   "source": [
    "## Default Parameters"
   ]
  },
  {
   "cell_type": "code",
   "execution_count": 24,
   "id": "f0e367a5",
   "metadata": {},
   "outputs": [
    {
     "name": "stdout",
     "output_type": "stream",
     "text": [
      "0.995 CV accuracy with a standard deviation of 0.002.\n"
     ]
    },
    {
     "data": {
      "application/javascript": [
       "\n",
       "            setTimeout(function() {\n",
       "                var nbb_cell_id = 24;\n",
       "                var nbb_unformatted_code = \"pipe = make_pipeline(ct, DecisionTreeClassifier(criterion=\\\"entropy\\\", random_state=1234))\\nscores = cross_val_score(pipe, X, y, cv=cv)\\nprint(\\n    \\\"%0.3f CV accuracy with a standard deviation of %0.3f.\\\"\\n    % (scores.mean(), scores.std())\\n)\";\n",
       "                var nbb_formatted_code = \"pipe = make_pipeline(ct, DecisionTreeClassifier(criterion=\\\"entropy\\\", random_state=1234))\\nscores = cross_val_score(pipe, X, y, cv=cv)\\nprint(\\n    \\\"%0.3f CV accuracy with a standard deviation of %0.3f.\\\"\\n    % (scores.mean(), scores.std())\\n)\";\n",
       "                var nbb_cells = Jupyter.notebook.get_cells();\n",
       "                for (var i = 0; i < nbb_cells.length; ++i) {\n",
       "                    if (nbb_cells[i].input_prompt_number == nbb_cell_id) {\n",
       "                        if (nbb_cells[i].get_text() == nbb_unformatted_code) {\n",
       "                             nbb_cells[i].set_text(nbb_formatted_code);\n",
       "                        }\n",
       "                        break;\n",
       "                    }\n",
       "                }\n",
       "            }, 500);\n",
       "            "
      ],
      "text/plain": [
       "<IPython.core.display.Javascript object>"
      ]
     },
     "metadata": {},
     "output_type": "display_data"
    }
   ],
   "source": [
    "pipe = make_pipeline(ct, DecisionTreeClassifier(criterion=\"entropy\", random_state=1234))\n",
    "scores = cross_val_score(pipe, X, y, cv=cv)\n",
    "print(\n",
    "    \"%0.3f CV accuracy with a standard deviation of %0.3f.\"\n",
    "    % (scores.mean(), scores.std())\n",
    ")"
   ]
  },
  {
   "cell_type": "markdown",
   "id": "1e8ce00d",
   "metadata": {},
   "source": [
    "The CV accuracy of the decision tree classifier using entropy as the splitting criterion is very high, thus parameter tuning is unnecessary."
   ]
  },
  {
   "cell_type": "code",
   "execution_count": 25,
   "id": "dd6cabb1",
   "metadata": {},
   "outputs": [
    {
     "name": "stdout",
     "output_type": "stream",
     "text": [
      "0.995 CV accuracy with a standard deviation of 0.001.\n"
     ]
    },
    {
     "data": {
      "application/javascript": [
       "\n",
       "            setTimeout(function() {\n",
       "                var nbb_cell_id = 25;\n",
       "                var nbb_unformatted_code = \"pipe = make_pipeline(ct, DecisionTreeClassifier(criterion=\\\"gini\\\", random_state=1234))\\nscores = cross_val_score(pipe, X, y, cv=cv)\\nprint(\\n    \\\"%0.3f CV accuracy with a standard deviation of %0.3f.\\\"\\n    % (scores.mean(), scores.std())\\n)\";\n",
       "                var nbb_formatted_code = \"pipe = make_pipeline(ct, DecisionTreeClassifier(criterion=\\\"gini\\\", random_state=1234))\\nscores = cross_val_score(pipe, X, y, cv=cv)\\nprint(\\n    \\\"%0.3f CV accuracy with a standard deviation of %0.3f.\\\"\\n    % (scores.mean(), scores.std())\\n)\";\n",
       "                var nbb_cells = Jupyter.notebook.get_cells();\n",
       "                for (var i = 0; i < nbb_cells.length; ++i) {\n",
       "                    if (nbb_cells[i].input_prompt_number == nbb_cell_id) {\n",
       "                        if (nbb_cells[i].get_text() == nbb_unformatted_code) {\n",
       "                             nbb_cells[i].set_text(nbb_formatted_code);\n",
       "                        }\n",
       "                        break;\n",
       "                    }\n",
       "                }\n",
       "            }, 500);\n",
       "            "
      ],
      "text/plain": [
       "<IPython.core.display.Javascript object>"
      ]
     },
     "metadata": {},
     "output_type": "display_data"
    }
   ],
   "source": [
    "pipe = make_pipeline(ct, DecisionTreeClassifier(criterion=\"gini\", random_state=1234))\n",
    "scores = cross_val_score(pipe, X, y, cv=cv)\n",
    "print(\n",
    "    \"%0.3f CV accuracy with a standard deviation of %0.3f.\"\n",
    "    % (scores.mean(), scores.std())\n",
    ")"
   ]
  },
  {
   "cell_type": "markdown",
   "id": "d229d72e",
   "metadata": {},
   "source": [
    "The accuracy of the decision tree classifier using the Gini index has approximately the same CV accuracy compared to using entropy as the splitting criterion. However, the Gini index CV accuracy has a lower standard deviation, thus we can construct a tighter confidence interval given a confidence level compared to the accuracy obtained when using entropy."
   ]
  },
  {
   "cell_type": "markdown",
   "id": "bd5a6911",
   "metadata": {},
   "source": [
    "## Parameter Tuning"
   ]
  },
  {
   "cell_type": "markdown",
   "id": "84220efa",
   "metadata": {},
   "source": [
    "The decision tree classifier already has an accuracy that exceeds 99.5%, therefore parameter tuning is not necessary. Thus, a visualization of how the parameters impact the accuracy of the model is demonstrated."
   ]
  },
  {
   "cell_type": "code",
   "execution_count": 26,
   "id": "2d453476",
   "metadata": {},
   "outputs": [
    {
     "name": "stdout",
     "output_type": "stream",
     "text": [
      "Best parameter (CV accuracy=0.995):\n",
      "{'decisiontreeclassifier__criterion': 'gini', 'decisiontreeclassifier__max_depth': 18}\n"
     ]
    },
    {
     "data": {
      "application/javascript": [
       "\n",
       "            setTimeout(function() {\n",
       "                var nbb_cell_id = 26;\n",
       "                var nbb_unformatted_code = \"pipe = make_pipeline(ct, DecisionTreeClassifier(random_state=1234))\\ncriterion = [\\\"gini\\\", \\\"entropy\\\"]\\ndepth_range = list(range(1, 41))\\nparam_grid = {\\n    \\\"decisiontreeclassifier__criterion\\\": criterion,\\n    \\\"decisiontreeclassifier__max_depth\\\": depth_range,\\n}\\n\\nsearch = GridSearchCV(pipe, param_grid, cv=cv, n_jobs=-1)\\n\\nsearch.fit(X, y)\\nprint(\\\"Best parameter (CV accuracy=%0.3f):\\\" % search.best_score_)\\nprint(search.best_params_)\";\n",
       "                var nbb_formatted_code = \"pipe = make_pipeline(ct, DecisionTreeClassifier(random_state=1234))\\ncriterion = [\\\"gini\\\", \\\"entropy\\\"]\\ndepth_range = list(range(1, 41))\\nparam_grid = {\\n    \\\"decisiontreeclassifier__criterion\\\": criterion,\\n    \\\"decisiontreeclassifier__max_depth\\\": depth_range,\\n}\\n\\nsearch = GridSearchCV(pipe, param_grid, cv=cv, n_jobs=-1)\\n\\nsearch.fit(X, y)\\nprint(\\\"Best parameter (CV accuracy=%0.3f):\\\" % search.best_score_)\\nprint(search.best_params_)\";\n",
       "                var nbb_cells = Jupyter.notebook.get_cells();\n",
       "                for (var i = 0; i < nbb_cells.length; ++i) {\n",
       "                    if (nbb_cells[i].input_prompt_number == nbb_cell_id) {\n",
       "                        if (nbb_cells[i].get_text() == nbb_unformatted_code) {\n",
       "                             nbb_cells[i].set_text(nbb_formatted_code);\n",
       "                        }\n",
       "                        break;\n",
       "                    }\n",
       "                }\n",
       "            }, 500);\n",
       "            "
      ],
      "text/plain": [
       "<IPython.core.display.Javascript object>"
      ]
     },
     "metadata": {},
     "output_type": "display_data"
    }
   ],
   "source": [
    "pipe = make_pipeline(ct, DecisionTreeClassifier(random_state=1234))\n",
    "criterion = [\"gini\", \"entropy\"]\n",
    "depth_range = list(range(1, 41))\n",
    "param_grid = {\n",
    "    \"decisiontreeclassifier__criterion\": criterion,\n",
    "    \"decisiontreeclassifier__max_depth\": depth_range,\n",
    "}\n",
    "\n",
    "search = GridSearchCV(pipe, param_grid, cv=cv, n_jobs=-1)\n",
    "\n",
    "search.fit(X, y)\n",
    "print(\"Best parameter (CV accuracy=%0.3f):\" % search.best_score_)\n",
    "print(search.best_params_)"
   ]
  },
  {
   "cell_type": "code",
   "execution_count": 27,
   "id": "9ffce5e3",
   "metadata": {},
   "outputs": [
    {
     "data": {
      "image/png": "[encoded data removed]",
      "text/plain": [
       "<Figure size 432x288 with 1 Axes>"
      ]
     },
     "metadata": {},
     "output_type": "display_data"
    },
    {
     "data": {
      "application/javascript": [
       "\n",
       "            setTimeout(function() {\n",
       "                var nbb_cell_id = 27;\n",
       "                var nbb_unformatted_code = \"tuning_results = pd.DataFrame(search.cv_results_[\\\"params\\\"])\\ntuning_results[\\\"mean_test_score\\\"] = search.cv_results_[\\\"mean_test_score\\\"]\\n\\nfor i in [\\\"gini\\\", \\\"entropy\\\"]:\\n    criterion = tuning_results[tuning_results[\\\"decisiontreeclassifier__criterion\\\"] == i]\\n    plt.plot(\\n        criterion[\\\"decisiontreeclassifier__max_depth\\\"],\\n        criterion[\\\"mean_test_score\\\"],\\n        label=i,\\n    )\\n\\nplt.legend()\\nplt.xlabel(\\\"Max Depth\\\")\\nplt.ylabel(\\\"CV Accuracy\\\")\\nplt.title(\\\"DT Tuning\\\")\\nplt.show()\";\n",
       "                var nbb_formatted_code = \"tuning_results = pd.DataFrame(search.cv_results_[\\\"params\\\"])\\ntuning_results[\\\"mean_test_score\\\"] = search.cv_results_[\\\"mean_test_score\\\"]\\n\\nfor i in [\\\"gini\\\", \\\"entropy\\\"]:\\n    criterion = tuning_results[tuning_results[\\\"decisiontreeclassifier__criterion\\\"] == i]\\n    plt.plot(\\n        criterion[\\\"decisiontreeclassifier__max_depth\\\"],\\n        criterion[\\\"mean_test_score\\\"],\\n        label=i,\\n    )\\n\\nplt.legend()\\nplt.xlabel(\\\"Max Depth\\\")\\nplt.ylabel(\\\"CV Accuracy\\\")\\nplt.title(\\\"DT Tuning\\\")\\nplt.show()\";\n",
       "                var nbb_cells = Jupyter.notebook.get_cells();\n",
       "                for (var i = 0; i < nbb_cells.length; ++i) {\n",
       "                    if (nbb_cells[i].input_prompt_number == nbb_cell_id) {\n",
       "                        if (nbb_cells[i].get_text() == nbb_unformatted_code) {\n",
       "                             nbb_cells[i].set_text(nbb_formatted_code);\n",
       "                        }\n",
       "                        break;\n",
       "                    }\n",
       "                }\n",
       "            }, 500);\n",
       "            "
      ],
      "text/plain": [
       "<IPython.core.display.Javascript object>"
      ]
     },
     "metadata": {},
     "output_type": "display_data"
    }
   ],
   "source": [
    "tuning_results = pd.DataFrame(search.cv_results_[\"params\"])\n",
    "tuning_results[\"mean_test_score\"] = search.cv_results_[\"mean_test_score\"]\n",
    "\n",
    "for i in [\"gini\", \"entropy\"]:\n",
    "    criterion = tuning_results[tuning_results[\"decisiontreeclassifier__criterion\"] == i]\n",
    "    plt.plot(\n",
    "        criterion[\"decisiontreeclassifier__max_depth\"],\n",
    "        criterion[\"mean_test_score\"],\n",
    "        label=i,\n",
    "    )\n",
    "\n",
    "plt.legend()\n",
    "plt.xlabel(\"Max Depth\")\n",
    "plt.ylabel(\"CV Accuracy\")\n",
    "plt.title(\"DT Tuning\")\n",
    "plt.show()"
   ]
  },
  {
   "cell_type": "markdown",
   "id": "119ddcf7",
   "metadata": {},
   "source": [
    "As seen from the above graph, as the max depth of the decision tree increases and approaches 10, the CV accuracy increases. However, as the max depth exceeds 10, the CV accuracy plateaus, indicating that the CV accuracy gains become small and eventually converge. Although it appears that a deeper tree has better accuracy, it will most likely be overfit to the training data meaning that the bias is decreased at the expense of increased variance. Using the Gini index compared to entropy as the splitting criterion does not have a significant impact on the CV accuracy."
   ]
  },
  {
   "cell_type": "code",
   "execution_count": 28,
   "id": "4f99a1ab",
   "metadata": {},
   "outputs": [
    {
     "data": {
      "application/javascript": [
       "\n",
       "            setTimeout(function() {\n",
       "                var nbb_cell_id = 28;\n",
       "                var nbb_unformatted_code = \"# insert the best CV accuracy obtained by NB\\nbest_classifiers[\\\"DT with PT\\\"] = search.best_score_\";\n",
       "                var nbb_formatted_code = \"# insert the best CV accuracy obtained by NB\\nbest_classifiers[\\\"DT with PT\\\"] = search.best_score_\";\n",
       "                var nbb_cells = Jupyter.notebook.get_cells();\n",
       "                for (var i = 0; i < nbb_cells.length; ++i) {\n",
       "                    if (nbb_cells[i].input_prompt_number == nbb_cell_id) {\n",
       "                        if (nbb_cells[i].get_text() == nbb_unformatted_code) {\n",
       "                             nbb_cells[i].set_text(nbb_formatted_code);\n",
       "                        }\n",
       "                        break;\n",
       "                    }\n",
       "                }\n",
       "            }, 500);\n",
       "            "
      ],
      "text/plain": [
       "<IPython.core.display.Javascript object>"
      ]
     },
     "metadata": {},
     "output_type": "display_data"
    }
   ],
   "source": [
    "# insert the best CV accuracy obtained by NB\n",
    "best_classifiers[\"DT with PT\"] = search.best_score_"
   ]
  },
  {
   "cell_type": "code",
   "execution_count": null,
   "id": "abaa2370",
   "metadata": {},
   "outputs": [],
   "source": []
  }
 ],
 "metadata": {
  "kernelspec": {
   "display_name": "Python 3",
   "language": "python",
   "name": "python3"
  },
  "language_info": {
   "codemirror_mode": {
    "name": "ipython",
    "version": 3
   },
   "file_extension": ".py",
   "mimetype": "text/x-python",
   "name": "python",
   "nbconvert_exporter": "python",
   "pygments_lexer": "ipython3",
   "version": "3.9.2"
  },
  "varInspector": {
   "cols": {
    "lenName": 16,
    "lenType": 16,
    "lenVar": 40
   },
   "kernels_config": {
    "python": {
     "delete_cmd_postfix": "",
     "delete_cmd_prefix": "del ",
     "library": "var_list.py",
     "varRefreshCmd": "print(var_dic_list())"
    },
    "r": {
     "delete_cmd_postfix": ") ",
     "delete_cmd_prefix": "rm(",
     "library": "var_list.r",
     "varRefreshCmd": "cat(var_dic_list()) "
    }
   },
   "types_to_exclude": [
    "module",
    "function",
    "builtin_function_or_method",
    "instance",
    "_Feature"
   ],
   "window_display": false
  }
 },
 "nbformat": 4,
 "nbformat_minor": 5
}
